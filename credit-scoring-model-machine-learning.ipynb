{
 "cells": [
  {
   "cell_type": "markdown",
   "id": "b82dfcfc",
   "metadata": {
    "papermill": {
     "duration": 0.012496,
     "end_time": "2024-02-27T15:31:04.616561",
     "exception": false,
     "start_time": "2024-02-27T15:31:04.604065",
     "status": "completed"
    },
    "tags": []
   },
   "source": [
    "# Credit Scoring Model"
   ]
  },
  {
   "cell_type": "markdown",
   "id": "b1613ce0",
   "metadata": {
    "papermill": {
     "duration": 0.010971,
     "end_time": "2024-02-27T15:31:04.639355",
     "exception": false,
     "start_time": "2024-02-27T15:31:04.628384",
     "status": "completed"
    },
    "tags": []
   },
   "source": [
    "Develop a credit scoring model to predict the credit worthiness of individuals based on historical financial data.\n",
    "\n",
    "Utilize classification algorithms and assess the model's accuracy."
   ]
  },
  {
   "cell_type": "code",
   "execution_count": 1,
   "id": "c6f546a9",
   "metadata": {
    "_cell_guid": "b1076dfc-b9ad-4769-8c92-a6c4dae69d19",
    "_uuid": "8f2839f25d086af736a60e9eeb907d3b93b6e0e5",
    "execution": {
     "iopub.execute_input": "2024-02-27T15:31:04.664330Z",
     "iopub.status.busy": "2024-02-27T15:31:04.663574Z",
     "iopub.status.idle": "2024-02-27T15:31:05.477514Z",
     "shell.execute_reply": "2024-02-27T15:31:05.476221Z"
    },
    "papermill": {
     "duration": 0.828867,
     "end_time": "2024-02-27T15:31:05.479759",
     "exception": false,
     "start_time": "2024-02-27T15:31:04.650892",
     "status": "completed"
    },
    "tags": []
   },
   "outputs": [
    {
     "name": "stdout",
     "output_type": "stream",
     "text": [
      "/kaggle/input/bank-credit-scoring/bank.csv\n",
      "/kaggle/input/bank-credit-scoring/scoring.jpg\n"
     ]
    }
   ],
   "source": [
    "\n",
    "import numpy as np # linear algebra\n",
    "import pandas as pd # data processing, CSV file I/O (e.g. pd.read_csv)\n",
    "\n",
    "\n",
    "import os\n",
    "for dirname, _, filenames in os.walk('/kaggle/input'):\n",
    "    for filename in filenames:\n",
    "        print(os.path.join(dirname, filename))\n"
   ]
  },
  {
   "cell_type": "markdown",
   "id": "830687f3",
   "metadata": {
    "papermill": {
     "duration": 0.011191,
     "end_time": "2024-02-27T15:31:05.503634",
     "exception": false,
     "start_time": "2024-02-27T15:31:05.492443",
     "status": "completed"
    },
    "tags": []
   },
   "source": [
    "# Import necessary libraries"
   ]
  },
  {
   "cell_type": "code",
   "execution_count": 2,
   "id": "cc773acc",
   "metadata": {
    "execution": {
     "iopub.execute_input": "2024-02-27T15:31:05.528430Z",
     "iopub.status.busy": "2024-02-27T15:31:05.527711Z",
     "iopub.status.idle": "2024-02-27T15:31:07.515621Z",
     "shell.execute_reply": "2024-02-27T15:31:07.514628Z"
    },
    "papermill": {
     "duration": 2.003155,
     "end_time": "2024-02-27T15:31:07.518309",
     "exception": false,
     "start_time": "2024-02-27T15:31:05.515154",
     "status": "completed"
    },
    "tags": []
   },
   "outputs": [],
   "source": [
    "# Importing The Required Libraries\n",
    "import pandas as pd\n",
    "import seaborn as sns\n",
    "import numpy as np\n",
    "import matplotlib.pyplot as plt\n",
    "from sklearn.feature_selection import SelectKBest\n",
    "from sklearn.preprocessing import LabelEncoder\n",
    "from sklearn.preprocessing import MinMaxScaler\n",
    "from sklearn.model_selection import train_test_split\n",
    "from sklearn.neighbors import KNeighborsClassifier\n",
    "from sklearn.svm import SVC\n",
    "from sklearn.naive_bayes import GaussianNB\n",
    "from sklearn.tree import DecisionTreeClassifier\n",
    "from sklearn.ensemble import RandomForestClassifier\n",
    "from sklearn.ensemble import AdaBoostClassifier\n",
    "from sklearn.ensemble import GradientBoostingClassifier\n",
    "from xgboost import XGBClassifier\n",
    "import warnings\n",
    "warnings.filterwarnings(\"ignore\")\n",
    "from sklearn.metrics import classification_report,ConfusionMatrixDisplay"
   ]
  },
  {
   "cell_type": "markdown",
   "id": "6b140c30",
   "metadata": {
    "papermill": {
     "duration": 0.011059,
     "end_time": "2024-02-27T15:31:07.540824",
     "exception": false,
     "start_time": "2024-02-27T15:31:07.529765",
     "status": "completed"
    },
    "tags": []
   },
   "source": [
    "# Load the Credit scoring dataset"
   ]
  },
  {
   "cell_type": "code",
   "execution_count": 3,
   "id": "16af2000",
   "metadata": {
    "execution": {
     "iopub.execute_input": "2024-02-27T15:31:07.567585Z",
     "iopub.status.busy": "2024-02-27T15:31:07.566672Z",
     "iopub.status.idle": "2024-02-27T15:31:07.618331Z",
     "shell.execute_reply": "2024-02-27T15:31:07.617182Z"
    },
    "papermill": {
     "duration": 0.067783,
     "end_time": "2024-02-27T15:31:07.620597",
     "exception": false,
     "start_time": "2024-02-27T15:31:07.552814",
     "status": "completed"
    },
    "tags": []
   },
   "outputs": [],
   "source": [
    "df = pd.read_csv(\"/kaggle/input/bank-credit-scoring/bank.csv\", sep=\";\").drop_duplicates()"
   ]
  },
  {
   "cell_type": "markdown",
   "id": "66d08453",
   "metadata": {
    "papermill": {
     "duration": 0.011179,
     "end_time": "2024-02-27T15:31:07.643366",
     "exception": false,
     "start_time": "2024-02-27T15:31:07.632187",
     "status": "completed"
    },
    "tags": []
   },
   "source": [
    "# Explore the dataset"
   ]
  },
  {
   "cell_type": "code",
   "execution_count": 4,
   "id": "290e36f3",
   "metadata": {
    "execution": {
     "iopub.execute_input": "2024-02-27T15:31:07.668123Z",
     "iopub.status.busy": "2024-02-27T15:31:07.667698Z",
     "iopub.status.idle": "2024-02-27T15:31:07.693391Z",
     "shell.execute_reply": "2024-02-27T15:31:07.692350Z"
    },
    "papermill": {
     "duration": 0.040652,
     "end_time": "2024-02-27T15:31:07.695522",
     "exception": false,
     "start_time": "2024-02-27T15:31:07.654870",
     "status": "completed"
    },
    "tags": []
   },
   "outputs": [
    {
     "data": {
      "text/html": [
       "<div>\n",
       "<style scoped>\n",
       "    .dataframe tbody tr th:only-of-type {\n",
       "        vertical-align: middle;\n",
       "    }\n",
       "\n",
       "    .dataframe tbody tr th {\n",
       "        vertical-align: top;\n",
       "    }\n",
       "\n",
       "    .dataframe thead th {\n",
       "        text-align: right;\n",
       "    }\n",
       "</style>\n",
       "<table border=\"1\" class=\"dataframe\">\n",
       "  <thead>\n",
       "    <tr style=\"text-align: right;\">\n",
       "      <th></th>\n",
       "      <th>age</th>\n",
       "      <th>job</th>\n",
       "      <th>marital</th>\n",
       "      <th>education</th>\n",
       "      <th>default</th>\n",
       "      <th>balance</th>\n",
       "      <th>housing</th>\n",
       "      <th>loan</th>\n",
       "      <th>contact</th>\n",
       "      <th>day</th>\n",
       "      <th>month</th>\n",
       "      <th>duration</th>\n",
       "      <th>campaign</th>\n",
       "      <th>pdays</th>\n",
       "      <th>previous</th>\n",
       "      <th>poutcome</th>\n",
       "      <th>y</th>\n",
       "    </tr>\n",
       "  </thead>\n",
       "  <tbody>\n",
       "    <tr>\n",
       "      <th>0</th>\n",
       "      <td>30</td>\n",
       "      <td>unemployed</td>\n",
       "      <td>married</td>\n",
       "      <td>primary</td>\n",
       "      <td>no</td>\n",
       "      <td>1787</td>\n",
       "      <td>no</td>\n",
       "      <td>no</td>\n",
       "      <td>cellular</td>\n",
       "      <td>19</td>\n",
       "      <td>oct</td>\n",
       "      <td>79</td>\n",
       "      <td>1</td>\n",
       "      <td>-1</td>\n",
       "      <td>0</td>\n",
       "      <td>unknown</td>\n",
       "      <td>no</td>\n",
       "    </tr>\n",
       "    <tr>\n",
       "      <th>1</th>\n",
       "      <td>33</td>\n",
       "      <td>services</td>\n",
       "      <td>married</td>\n",
       "      <td>secondary</td>\n",
       "      <td>no</td>\n",
       "      <td>4789</td>\n",
       "      <td>yes</td>\n",
       "      <td>yes</td>\n",
       "      <td>cellular</td>\n",
       "      <td>11</td>\n",
       "      <td>may</td>\n",
       "      <td>220</td>\n",
       "      <td>1</td>\n",
       "      <td>339</td>\n",
       "      <td>4</td>\n",
       "      <td>failure</td>\n",
       "      <td>no</td>\n",
       "    </tr>\n",
       "    <tr>\n",
       "      <th>2</th>\n",
       "      <td>35</td>\n",
       "      <td>management</td>\n",
       "      <td>single</td>\n",
       "      <td>tertiary</td>\n",
       "      <td>no</td>\n",
       "      <td>1350</td>\n",
       "      <td>yes</td>\n",
       "      <td>no</td>\n",
       "      <td>cellular</td>\n",
       "      <td>16</td>\n",
       "      <td>apr</td>\n",
       "      <td>185</td>\n",
       "      <td>1</td>\n",
       "      <td>330</td>\n",
       "      <td>1</td>\n",
       "      <td>failure</td>\n",
       "      <td>no</td>\n",
       "    </tr>\n",
       "    <tr>\n",
       "      <th>3</th>\n",
       "      <td>30</td>\n",
       "      <td>management</td>\n",
       "      <td>married</td>\n",
       "      <td>tertiary</td>\n",
       "      <td>no</td>\n",
       "      <td>1476</td>\n",
       "      <td>yes</td>\n",
       "      <td>yes</td>\n",
       "      <td>unknown</td>\n",
       "      <td>3</td>\n",
       "      <td>jun</td>\n",
       "      <td>199</td>\n",
       "      <td>4</td>\n",
       "      <td>-1</td>\n",
       "      <td>0</td>\n",
       "      <td>unknown</td>\n",
       "      <td>no</td>\n",
       "    </tr>\n",
       "    <tr>\n",
       "      <th>4</th>\n",
       "      <td>59</td>\n",
       "      <td>blue-collar</td>\n",
       "      <td>married</td>\n",
       "      <td>secondary</td>\n",
       "      <td>no</td>\n",
       "      <td>0</td>\n",
       "      <td>yes</td>\n",
       "      <td>no</td>\n",
       "      <td>unknown</td>\n",
       "      <td>5</td>\n",
       "      <td>may</td>\n",
       "      <td>226</td>\n",
       "      <td>1</td>\n",
       "      <td>-1</td>\n",
       "      <td>0</td>\n",
       "      <td>unknown</td>\n",
       "      <td>no</td>\n",
       "    </tr>\n",
       "    <tr>\n",
       "      <th>...</th>\n",
       "      <td>...</td>\n",
       "      <td>...</td>\n",
       "      <td>...</td>\n",
       "      <td>...</td>\n",
       "      <td>...</td>\n",
       "      <td>...</td>\n",
       "      <td>...</td>\n",
       "      <td>...</td>\n",
       "      <td>...</td>\n",
       "      <td>...</td>\n",
       "      <td>...</td>\n",
       "      <td>...</td>\n",
       "      <td>...</td>\n",
       "      <td>...</td>\n",
       "      <td>...</td>\n",
       "      <td>...</td>\n",
       "      <td>...</td>\n",
       "    </tr>\n",
       "    <tr>\n",
       "      <th>4516</th>\n",
       "      <td>33</td>\n",
       "      <td>services</td>\n",
       "      <td>married</td>\n",
       "      <td>secondary</td>\n",
       "      <td>no</td>\n",
       "      <td>-333</td>\n",
       "      <td>yes</td>\n",
       "      <td>no</td>\n",
       "      <td>cellular</td>\n",
       "      <td>30</td>\n",
       "      <td>jul</td>\n",
       "      <td>329</td>\n",
       "      <td>5</td>\n",
       "      <td>-1</td>\n",
       "      <td>0</td>\n",
       "      <td>unknown</td>\n",
       "      <td>no</td>\n",
       "    </tr>\n",
       "    <tr>\n",
       "      <th>4517</th>\n",
       "      <td>57</td>\n",
       "      <td>self-employed</td>\n",
       "      <td>married</td>\n",
       "      <td>tertiary</td>\n",
       "      <td>yes</td>\n",
       "      <td>-3313</td>\n",
       "      <td>yes</td>\n",
       "      <td>yes</td>\n",
       "      <td>unknown</td>\n",
       "      <td>9</td>\n",
       "      <td>may</td>\n",
       "      <td>153</td>\n",
       "      <td>1</td>\n",
       "      <td>-1</td>\n",
       "      <td>0</td>\n",
       "      <td>unknown</td>\n",
       "      <td>no</td>\n",
       "    </tr>\n",
       "    <tr>\n",
       "      <th>4518</th>\n",
       "      <td>57</td>\n",
       "      <td>technician</td>\n",
       "      <td>married</td>\n",
       "      <td>secondary</td>\n",
       "      <td>no</td>\n",
       "      <td>295</td>\n",
       "      <td>no</td>\n",
       "      <td>no</td>\n",
       "      <td>cellular</td>\n",
       "      <td>19</td>\n",
       "      <td>aug</td>\n",
       "      <td>151</td>\n",
       "      <td>11</td>\n",
       "      <td>-1</td>\n",
       "      <td>0</td>\n",
       "      <td>unknown</td>\n",
       "      <td>no</td>\n",
       "    </tr>\n",
       "    <tr>\n",
       "      <th>4519</th>\n",
       "      <td>28</td>\n",
       "      <td>blue-collar</td>\n",
       "      <td>married</td>\n",
       "      <td>secondary</td>\n",
       "      <td>no</td>\n",
       "      <td>1137</td>\n",
       "      <td>no</td>\n",
       "      <td>no</td>\n",
       "      <td>cellular</td>\n",
       "      <td>6</td>\n",
       "      <td>feb</td>\n",
       "      <td>129</td>\n",
       "      <td>4</td>\n",
       "      <td>211</td>\n",
       "      <td>3</td>\n",
       "      <td>other</td>\n",
       "      <td>no</td>\n",
       "    </tr>\n",
       "    <tr>\n",
       "      <th>4520</th>\n",
       "      <td>44</td>\n",
       "      <td>entrepreneur</td>\n",
       "      <td>single</td>\n",
       "      <td>tertiary</td>\n",
       "      <td>no</td>\n",
       "      <td>1136</td>\n",
       "      <td>yes</td>\n",
       "      <td>yes</td>\n",
       "      <td>cellular</td>\n",
       "      <td>3</td>\n",
       "      <td>apr</td>\n",
       "      <td>345</td>\n",
       "      <td>2</td>\n",
       "      <td>249</td>\n",
       "      <td>7</td>\n",
       "      <td>other</td>\n",
       "      <td>no</td>\n",
       "    </tr>\n",
       "  </tbody>\n",
       "</table>\n",
       "<p>4521 rows × 17 columns</p>\n",
       "</div>"
      ],
      "text/plain": [
       "      age            job  marital  education default  balance housing loan  \\\n",
       "0      30     unemployed  married    primary      no     1787      no   no   \n",
       "1      33       services  married  secondary      no     4789     yes  yes   \n",
       "2      35     management   single   tertiary      no     1350     yes   no   \n",
       "3      30     management  married   tertiary      no     1476     yes  yes   \n",
       "4      59    blue-collar  married  secondary      no        0     yes   no   \n",
       "...   ...            ...      ...        ...     ...      ...     ...  ...   \n",
       "4516   33       services  married  secondary      no     -333     yes   no   \n",
       "4517   57  self-employed  married   tertiary     yes    -3313     yes  yes   \n",
       "4518   57     technician  married  secondary      no      295      no   no   \n",
       "4519   28    blue-collar  married  secondary      no     1137      no   no   \n",
       "4520   44   entrepreneur   single   tertiary      no     1136     yes  yes   \n",
       "\n",
       "       contact  day month  duration  campaign  pdays  previous poutcome   y  \n",
       "0     cellular   19   oct        79         1     -1         0  unknown  no  \n",
       "1     cellular   11   may       220         1    339         4  failure  no  \n",
       "2     cellular   16   apr       185         1    330         1  failure  no  \n",
       "3      unknown    3   jun       199         4     -1         0  unknown  no  \n",
       "4      unknown    5   may       226         1     -1         0  unknown  no  \n",
       "...        ...  ...   ...       ...       ...    ...       ...      ...  ..  \n",
       "4516  cellular   30   jul       329         5     -1         0  unknown  no  \n",
       "4517   unknown    9   may       153         1     -1         0  unknown  no  \n",
       "4518  cellular   19   aug       151        11     -1         0  unknown  no  \n",
       "4519  cellular    6   feb       129         4    211         3    other  no  \n",
       "4520  cellular    3   apr       345         2    249         7    other  no  \n",
       "\n",
       "[4521 rows x 17 columns]"
      ]
     },
     "execution_count": 4,
     "metadata": {},
     "output_type": "execute_result"
    }
   ],
   "source": [
    "df"
   ]
  },
  {
   "cell_type": "code",
   "execution_count": 5,
   "id": "deb53b87",
   "metadata": {
    "execution": {
     "iopub.execute_input": "2024-02-27T15:31:07.721189Z",
     "iopub.status.busy": "2024-02-27T15:31:07.720818Z",
     "iopub.status.idle": "2024-02-27T15:31:07.736521Z",
     "shell.execute_reply": "2024-02-27T15:31:07.735747Z"
    },
    "papermill": {
     "duration": 0.030597,
     "end_time": "2024-02-27T15:31:07.738338",
     "exception": false,
     "start_time": "2024-02-27T15:31:07.707741",
     "status": "completed"
    },
    "tags": []
   },
   "outputs": [
    {
     "data": {
      "text/html": [
       "<div>\n",
       "<style scoped>\n",
       "    .dataframe tbody tr th:only-of-type {\n",
       "        vertical-align: middle;\n",
       "    }\n",
       "\n",
       "    .dataframe tbody tr th {\n",
       "        vertical-align: top;\n",
       "    }\n",
       "\n",
       "    .dataframe thead th {\n",
       "        text-align: right;\n",
       "    }\n",
       "</style>\n",
       "<table border=\"1\" class=\"dataframe\">\n",
       "  <thead>\n",
       "    <tr style=\"text-align: right;\">\n",
       "      <th></th>\n",
       "      <th>age</th>\n",
       "      <th>job</th>\n",
       "      <th>marital</th>\n",
       "      <th>education</th>\n",
       "      <th>default</th>\n",
       "      <th>balance</th>\n",
       "      <th>housing</th>\n",
       "      <th>loan</th>\n",
       "      <th>contact</th>\n",
       "      <th>day</th>\n",
       "      <th>month</th>\n",
       "      <th>duration</th>\n",
       "      <th>campaign</th>\n",
       "      <th>pdays</th>\n",
       "      <th>previous</th>\n",
       "      <th>poutcome</th>\n",
       "      <th>y</th>\n",
       "    </tr>\n",
       "  </thead>\n",
       "  <tbody>\n",
       "    <tr>\n",
       "      <th>0</th>\n",
       "      <td>30</td>\n",
       "      <td>unemployed</td>\n",
       "      <td>married</td>\n",
       "      <td>primary</td>\n",
       "      <td>no</td>\n",
       "      <td>1787</td>\n",
       "      <td>no</td>\n",
       "      <td>no</td>\n",
       "      <td>cellular</td>\n",
       "      <td>19</td>\n",
       "      <td>oct</td>\n",
       "      <td>79</td>\n",
       "      <td>1</td>\n",
       "      <td>-1</td>\n",
       "      <td>0</td>\n",
       "      <td>unknown</td>\n",
       "      <td>no</td>\n",
       "    </tr>\n",
       "    <tr>\n",
       "      <th>1</th>\n",
       "      <td>33</td>\n",
       "      <td>services</td>\n",
       "      <td>married</td>\n",
       "      <td>secondary</td>\n",
       "      <td>no</td>\n",
       "      <td>4789</td>\n",
       "      <td>yes</td>\n",
       "      <td>yes</td>\n",
       "      <td>cellular</td>\n",
       "      <td>11</td>\n",
       "      <td>may</td>\n",
       "      <td>220</td>\n",
       "      <td>1</td>\n",
       "      <td>339</td>\n",
       "      <td>4</td>\n",
       "      <td>failure</td>\n",
       "      <td>no</td>\n",
       "    </tr>\n",
       "    <tr>\n",
       "      <th>2</th>\n",
       "      <td>35</td>\n",
       "      <td>management</td>\n",
       "      <td>single</td>\n",
       "      <td>tertiary</td>\n",
       "      <td>no</td>\n",
       "      <td>1350</td>\n",
       "      <td>yes</td>\n",
       "      <td>no</td>\n",
       "      <td>cellular</td>\n",
       "      <td>16</td>\n",
       "      <td>apr</td>\n",
       "      <td>185</td>\n",
       "      <td>1</td>\n",
       "      <td>330</td>\n",
       "      <td>1</td>\n",
       "      <td>failure</td>\n",
       "      <td>no</td>\n",
       "    </tr>\n",
       "    <tr>\n",
       "      <th>3</th>\n",
       "      <td>30</td>\n",
       "      <td>management</td>\n",
       "      <td>married</td>\n",
       "      <td>tertiary</td>\n",
       "      <td>no</td>\n",
       "      <td>1476</td>\n",
       "      <td>yes</td>\n",
       "      <td>yes</td>\n",
       "      <td>unknown</td>\n",
       "      <td>3</td>\n",
       "      <td>jun</td>\n",
       "      <td>199</td>\n",
       "      <td>4</td>\n",
       "      <td>-1</td>\n",
       "      <td>0</td>\n",
       "      <td>unknown</td>\n",
       "      <td>no</td>\n",
       "    </tr>\n",
       "    <tr>\n",
       "      <th>4</th>\n",
       "      <td>59</td>\n",
       "      <td>blue-collar</td>\n",
       "      <td>married</td>\n",
       "      <td>secondary</td>\n",
       "      <td>no</td>\n",
       "      <td>0</td>\n",
       "      <td>yes</td>\n",
       "      <td>no</td>\n",
       "      <td>unknown</td>\n",
       "      <td>5</td>\n",
       "      <td>may</td>\n",
       "      <td>226</td>\n",
       "      <td>1</td>\n",
       "      <td>-1</td>\n",
       "      <td>0</td>\n",
       "      <td>unknown</td>\n",
       "      <td>no</td>\n",
       "    </tr>\n",
       "  </tbody>\n",
       "</table>\n",
       "</div>"
      ],
      "text/plain": [
       "   age          job  marital  education default  balance housing loan  \\\n",
       "0   30   unemployed  married    primary      no     1787      no   no   \n",
       "1   33     services  married  secondary      no     4789     yes  yes   \n",
       "2   35   management   single   tertiary      no     1350     yes   no   \n",
       "3   30   management  married   tertiary      no     1476     yes  yes   \n",
       "4   59  blue-collar  married  secondary      no        0     yes   no   \n",
       "\n",
       "    contact  day month  duration  campaign  pdays  previous poutcome   y  \n",
       "0  cellular   19   oct        79         1     -1         0  unknown  no  \n",
       "1  cellular   11   may       220         1    339         4  failure  no  \n",
       "2  cellular   16   apr       185         1    330         1  failure  no  \n",
       "3   unknown    3   jun       199         4     -1         0  unknown  no  \n",
       "4   unknown    5   may       226         1     -1         0  unknown  no  "
      ]
     },
     "execution_count": 5,
     "metadata": {},
     "output_type": "execute_result"
    }
   ],
   "source": [
    "df.head()"
   ]
  },
  {
   "cell_type": "markdown",
   "id": "2cb5eeab",
   "metadata": {
    "papermill": {
     "duration": 0.012404,
     "end_time": "2024-02-27T15:31:07.762864",
     "exception": false,
     "start_time": "2024-02-27T15:31:07.750460",
     "status": "completed"
    },
    "tags": []
   },
   "source": [
    "Display descriptive statistics of numerical columns"
   ]
  },
  {
   "cell_type": "code",
   "execution_count": 6,
   "id": "ba6bef42",
   "metadata": {
    "execution": {
     "iopub.execute_input": "2024-02-27T15:31:07.789756Z",
     "iopub.status.busy": "2024-02-27T15:31:07.788930Z",
     "iopub.status.idle": "2024-02-27T15:31:07.818857Z",
     "shell.execute_reply": "2024-02-27T15:31:07.817833Z"
    },
    "papermill": {
     "duration": 0.045732,
     "end_time": "2024-02-27T15:31:07.821048",
     "exception": false,
     "start_time": "2024-02-27T15:31:07.775316",
     "status": "completed"
    },
    "tags": []
   },
   "outputs": [
    {
     "data": {
      "text/html": [
       "<div>\n",
       "<style scoped>\n",
       "    .dataframe tbody tr th:only-of-type {\n",
       "        vertical-align: middle;\n",
       "    }\n",
       "\n",
       "    .dataframe tbody tr th {\n",
       "        vertical-align: top;\n",
       "    }\n",
       "\n",
       "    .dataframe thead th {\n",
       "        text-align: right;\n",
       "    }\n",
       "</style>\n",
       "<table border=\"1\" class=\"dataframe\">\n",
       "  <thead>\n",
       "    <tr style=\"text-align: right;\">\n",
       "      <th></th>\n",
       "      <th>age</th>\n",
       "      <th>balance</th>\n",
       "      <th>day</th>\n",
       "      <th>duration</th>\n",
       "      <th>campaign</th>\n",
       "      <th>pdays</th>\n",
       "      <th>previous</th>\n",
       "    </tr>\n",
       "  </thead>\n",
       "  <tbody>\n",
       "    <tr>\n",
       "      <th>count</th>\n",
       "      <td>4521.000000</td>\n",
       "      <td>4521.000000</td>\n",
       "      <td>4521.000000</td>\n",
       "      <td>4521.000000</td>\n",
       "      <td>4521.000000</td>\n",
       "      <td>4521.000000</td>\n",
       "      <td>4521.000000</td>\n",
       "    </tr>\n",
       "    <tr>\n",
       "      <th>mean</th>\n",
       "      <td>41.170095</td>\n",
       "      <td>1422.657819</td>\n",
       "      <td>15.915284</td>\n",
       "      <td>263.961292</td>\n",
       "      <td>2.793630</td>\n",
       "      <td>39.766645</td>\n",
       "      <td>0.542579</td>\n",
       "    </tr>\n",
       "    <tr>\n",
       "      <th>std</th>\n",
       "      <td>10.576211</td>\n",
       "      <td>3009.638142</td>\n",
       "      <td>8.247667</td>\n",
       "      <td>259.856633</td>\n",
       "      <td>3.109807</td>\n",
       "      <td>100.121124</td>\n",
       "      <td>1.693562</td>\n",
       "    </tr>\n",
       "    <tr>\n",
       "      <th>min</th>\n",
       "      <td>19.000000</td>\n",
       "      <td>-3313.000000</td>\n",
       "      <td>1.000000</td>\n",
       "      <td>4.000000</td>\n",
       "      <td>1.000000</td>\n",
       "      <td>-1.000000</td>\n",
       "      <td>0.000000</td>\n",
       "    </tr>\n",
       "    <tr>\n",
       "      <th>25%</th>\n",
       "      <td>33.000000</td>\n",
       "      <td>69.000000</td>\n",
       "      <td>9.000000</td>\n",
       "      <td>104.000000</td>\n",
       "      <td>1.000000</td>\n",
       "      <td>-1.000000</td>\n",
       "      <td>0.000000</td>\n",
       "    </tr>\n",
       "    <tr>\n",
       "      <th>50%</th>\n",
       "      <td>39.000000</td>\n",
       "      <td>444.000000</td>\n",
       "      <td>16.000000</td>\n",
       "      <td>185.000000</td>\n",
       "      <td>2.000000</td>\n",
       "      <td>-1.000000</td>\n",
       "      <td>0.000000</td>\n",
       "    </tr>\n",
       "    <tr>\n",
       "      <th>75%</th>\n",
       "      <td>49.000000</td>\n",
       "      <td>1480.000000</td>\n",
       "      <td>21.000000</td>\n",
       "      <td>329.000000</td>\n",
       "      <td>3.000000</td>\n",
       "      <td>-1.000000</td>\n",
       "      <td>0.000000</td>\n",
       "    </tr>\n",
       "    <tr>\n",
       "      <th>max</th>\n",
       "      <td>87.000000</td>\n",
       "      <td>71188.000000</td>\n",
       "      <td>31.000000</td>\n",
       "      <td>3025.000000</td>\n",
       "      <td>50.000000</td>\n",
       "      <td>871.000000</td>\n",
       "      <td>25.000000</td>\n",
       "    </tr>\n",
       "  </tbody>\n",
       "</table>\n",
       "</div>"
      ],
      "text/plain": [
       "               age       balance          day     duration     campaign  \\\n",
       "count  4521.000000   4521.000000  4521.000000  4521.000000  4521.000000   \n",
       "mean     41.170095   1422.657819    15.915284   263.961292     2.793630   \n",
       "std      10.576211   3009.638142     8.247667   259.856633     3.109807   \n",
       "min      19.000000  -3313.000000     1.000000     4.000000     1.000000   \n",
       "25%      33.000000     69.000000     9.000000   104.000000     1.000000   \n",
       "50%      39.000000    444.000000    16.000000   185.000000     2.000000   \n",
       "75%      49.000000   1480.000000    21.000000   329.000000     3.000000   \n",
       "max      87.000000  71188.000000    31.000000  3025.000000    50.000000   \n",
       "\n",
       "             pdays     previous  \n",
       "count  4521.000000  4521.000000  \n",
       "mean     39.766645     0.542579  \n",
       "std     100.121124     1.693562  \n",
       "min      -1.000000     0.000000  \n",
       "25%      -1.000000     0.000000  \n",
       "50%      -1.000000     0.000000  \n",
       "75%      -1.000000     0.000000  \n",
       "max     871.000000    25.000000  "
      ]
     },
     "execution_count": 6,
     "metadata": {},
     "output_type": "execute_result"
    }
   ],
   "source": [
    "df.describe()"
   ]
  },
  {
   "cell_type": "code",
   "execution_count": 7,
   "id": "badceab9",
   "metadata": {
    "execution": {
     "iopub.execute_input": "2024-02-27T15:31:07.847616Z",
     "iopub.status.busy": "2024-02-27T15:31:07.847245Z",
     "iopub.status.idle": "2024-02-27T15:31:07.900612Z",
     "shell.execute_reply": "2024-02-27T15:31:07.899566Z"
    },
    "papermill": {
     "duration": 0.069301,
     "end_time": "2024-02-27T15:31:07.902909",
     "exception": false,
     "start_time": "2024-02-27T15:31:07.833608",
     "status": "completed"
    },
    "tags": []
   },
   "outputs": [
    {
     "data": {
      "text/html": [
       "<div>\n",
       "<style scoped>\n",
       "    .dataframe tbody tr th:only-of-type {\n",
       "        vertical-align: middle;\n",
       "    }\n",
       "\n",
       "    .dataframe tbody tr th {\n",
       "        vertical-align: top;\n",
       "    }\n",
       "\n",
       "    .dataframe thead th {\n",
       "        text-align: right;\n",
       "    }\n",
       "</style>\n",
       "<table border=\"1\" class=\"dataframe\">\n",
       "  <thead>\n",
       "    <tr style=\"text-align: right;\">\n",
       "      <th></th>\n",
       "      <th>age</th>\n",
       "      <th>job</th>\n",
       "      <th>marital</th>\n",
       "      <th>education</th>\n",
       "      <th>default</th>\n",
       "      <th>balance</th>\n",
       "      <th>housing</th>\n",
       "      <th>loan</th>\n",
       "      <th>contact</th>\n",
       "      <th>day</th>\n",
       "      <th>month</th>\n",
       "      <th>duration</th>\n",
       "      <th>campaign</th>\n",
       "      <th>pdays</th>\n",
       "      <th>previous</th>\n",
       "      <th>poutcome</th>\n",
       "      <th>y</th>\n",
       "    </tr>\n",
       "  </thead>\n",
       "  <tbody>\n",
       "    <tr>\n",
       "      <th>count</th>\n",
       "      <td>4521.000000</td>\n",
       "      <td>4521</td>\n",
       "      <td>4521</td>\n",
       "      <td>4521</td>\n",
       "      <td>4521</td>\n",
       "      <td>4521.000000</td>\n",
       "      <td>4521</td>\n",
       "      <td>4521</td>\n",
       "      <td>4521</td>\n",
       "      <td>4521.000000</td>\n",
       "      <td>4521</td>\n",
       "      <td>4521.000000</td>\n",
       "      <td>4521.000000</td>\n",
       "      <td>4521.000000</td>\n",
       "      <td>4521.000000</td>\n",
       "      <td>4521</td>\n",
       "      <td>4521</td>\n",
       "    </tr>\n",
       "    <tr>\n",
       "      <th>unique</th>\n",
       "      <td>NaN</td>\n",
       "      <td>12</td>\n",
       "      <td>3</td>\n",
       "      <td>4</td>\n",
       "      <td>2</td>\n",
       "      <td>NaN</td>\n",
       "      <td>2</td>\n",
       "      <td>2</td>\n",
       "      <td>3</td>\n",
       "      <td>NaN</td>\n",
       "      <td>12</td>\n",
       "      <td>NaN</td>\n",
       "      <td>NaN</td>\n",
       "      <td>NaN</td>\n",
       "      <td>NaN</td>\n",
       "      <td>4</td>\n",
       "      <td>2</td>\n",
       "    </tr>\n",
       "    <tr>\n",
       "      <th>top</th>\n",
       "      <td>NaN</td>\n",
       "      <td>management</td>\n",
       "      <td>married</td>\n",
       "      <td>secondary</td>\n",
       "      <td>no</td>\n",
       "      <td>NaN</td>\n",
       "      <td>yes</td>\n",
       "      <td>no</td>\n",
       "      <td>cellular</td>\n",
       "      <td>NaN</td>\n",
       "      <td>may</td>\n",
       "      <td>NaN</td>\n",
       "      <td>NaN</td>\n",
       "      <td>NaN</td>\n",
       "      <td>NaN</td>\n",
       "      <td>unknown</td>\n",
       "      <td>no</td>\n",
       "    </tr>\n",
       "    <tr>\n",
       "      <th>freq</th>\n",
       "      <td>NaN</td>\n",
       "      <td>969</td>\n",
       "      <td>2797</td>\n",
       "      <td>2306</td>\n",
       "      <td>4445</td>\n",
       "      <td>NaN</td>\n",
       "      <td>2559</td>\n",
       "      <td>3830</td>\n",
       "      <td>2896</td>\n",
       "      <td>NaN</td>\n",
       "      <td>1398</td>\n",
       "      <td>NaN</td>\n",
       "      <td>NaN</td>\n",
       "      <td>NaN</td>\n",
       "      <td>NaN</td>\n",
       "      <td>3705</td>\n",
       "      <td>4000</td>\n",
       "    </tr>\n",
       "    <tr>\n",
       "      <th>mean</th>\n",
       "      <td>41.170095</td>\n",
       "      <td>NaN</td>\n",
       "      <td>NaN</td>\n",
       "      <td>NaN</td>\n",
       "      <td>NaN</td>\n",
       "      <td>1422.657819</td>\n",
       "      <td>NaN</td>\n",
       "      <td>NaN</td>\n",
       "      <td>NaN</td>\n",
       "      <td>15.915284</td>\n",
       "      <td>NaN</td>\n",
       "      <td>263.961292</td>\n",
       "      <td>2.793630</td>\n",
       "      <td>39.766645</td>\n",
       "      <td>0.542579</td>\n",
       "      <td>NaN</td>\n",
       "      <td>NaN</td>\n",
       "    </tr>\n",
       "    <tr>\n",
       "      <th>std</th>\n",
       "      <td>10.576211</td>\n",
       "      <td>NaN</td>\n",
       "      <td>NaN</td>\n",
       "      <td>NaN</td>\n",
       "      <td>NaN</td>\n",
       "      <td>3009.638142</td>\n",
       "      <td>NaN</td>\n",
       "      <td>NaN</td>\n",
       "      <td>NaN</td>\n",
       "      <td>8.247667</td>\n",
       "      <td>NaN</td>\n",
       "      <td>259.856633</td>\n",
       "      <td>3.109807</td>\n",
       "      <td>100.121124</td>\n",
       "      <td>1.693562</td>\n",
       "      <td>NaN</td>\n",
       "      <td>NaN</td>\n",
       "    </tr>\n",
       "    <tr>\n",
       "      <th>min</th>\n",
       "      <td>19.000000</td>\n",
       "      <td>NaN</td>\n",
       "      <td>NaN</td>\n",
       "      <td>NaN</td>\n",
       "      <td>NaN</td>\n",
       "      <td>-3313.000000</td>\n",
       "      <td>NaN</td>\n",
       "      <td>NaN</td>\n",
       "      <td>NaN</td>\n",
       "      <td>1.000000</td>\n",
       "      <td>NaN</td>\n",
       "      <td>4.000000</td>\n",
       "      <td>1.000000</td>\n",
       "      <td>-1.000000</td>\n",
       "      <td>0.000000</td>\n",
       "      <td>NaN</td>\n",
       "      <td>NaN</td>\n",
       "    </tr>\n",
       "    <tr>\n",
       "      <th>25%</th>\n",
       "      <td>33.000000</td>\n",
       "      <td>NaN</td>\n",
       "      <td>NaN</td>\n",
       "      <td>NaN</td>\n",
       "      <td>NaN</td>\n",
       "      <td>69.000000</td>\n",
       "      <td>NaN</td>\n",
       "      <td>NaN</td>\n",
       "      <td>NaN</td>\n",
       "      <td>9.000000</td>\n",
       "      <td>NaN</td>\n",
       "      <td>104.000000</td>\n",
       "      <td>1.000000</td>\n",
       "      <td>-1.000000</td>\n",
       "      <td>0.000000</td>\n",
       "      <td>NaN</td>\n",
       "      <td>NaN</td>\n",
       "    </tr>\n",
       "    <tr>\n",
       "      <th>50%</th>\n",
       "      <td>39.000000</td>\n",
       "      <td>NaN</td>\n",
       "      <td>NaN</td>\n",
       "      <td>NaN</td>\n",
       "      <td>NaN</td>\n",
       "      <td>444.000000</td>\n",
       "      <td>NaN</td>\n",
       "      <td>NaN</td>\n",
       "      <td>NaN</td>\n",
       "      <td>16.000000</td>\n",
       "      <td>NaN</td>\n",
       "      <td>185.000000</td>\n",
       "      <td>2.000000</td>\n",
       "      <td>-1.000000</td>\n",
       "      <td>0.000000</td>\n",
       "      <td>NaN</td>\n",
       "      <td>NaN</td>\n",
       "    </tr>\n",
       "    <tr>\n",
       "      <th>75%</th>\n",
       "      <td>49.000000</td>\n",
       "      <td>NaN</td>\n",
       "      <td>NaN</td>\n",
       "      <td>NaN</td>\n",
       "      <td>NaN</td>\n",
       "      <td>1480.000000</td>\n",
       "      <td>NaN</td>\n",
       "      <td>NaN</td>\n",
       "      <td>NaN</td>\n",
       "      <td>21.000000</td>\n",
       "      <td>NaN</td>\n",
       "      <td>329.000000</td>\n",
       "      <td>3.000000</td>\n",
       "      <td>-1.000000</td>\n",
       "      <td>0.000000</td>\n",
       "      <td>NaN</td>\n",
       "      <td>NaN</td>\n",
       "    </tr>\n",
       "    <tr>\n",
       "      <th>max</th>\n",
       "      <td>87.000000</td>\n",
       "      <td>NaN</td>\n",
       "      <td>NaN</td>\n",
       "      <td>NaN</td>\n",
       "      <td>NaN</td>\n",
       "      <td>71188.000000</td>\n",
       "      <td>NaN</td>\n",
       "      <td>NaN</td>\n",
       "      <td>NaN</td>\n",
       "      <td>31.000000</td>\n",
       "      <td>NaN</td>\n",
       "      <td>3025.000000</td>\n",
       "      <td>50.000000</td>\n",
       "      <td>871.000000</td>\n",
       "      <td>25.000000</td>\n",
       "      <td>NaN</td>\n",
       "      <td>NaN</td>\n",
       "    </tr>\n",
       "  </tbody>\n",
       "</table>\n",
       "</div>"
      ],
      "text/plain": [
       "                age         job  marital  education default       balance  \\\n",
       "count   4521.000000        4521     4521       4521    4521   4521.000000   \n",
       "unique          NaN          12        3          4       2           NaN   \n",
       "top             NaN  management  married  secondary      no           NaN   \n",
       "freq            NaN         969     2797       2306    4445           NaN   \n",
       "mean      41.170095         NaN      NaN        NaN     NaN   1422.657819   \n",
       "std       10.576211         NaN      NaN        NaN     NaN   3009.638142   \n",
       "min       19.000000         NaN      NaN        NaN     NaN  -3313.000000   \n",
       "25%       33.000000         NaN      NaN        NaN     NaN     69.000000   \n",
       "50%       39.000000         NaN      NaN        NaN     NaN    444.000000   \n",
       "75%       49.000000         NaN      NaN        NaN     NaN   1480.000000   \n",
       "max       87.000000         NaN      NaN        NaN     NaN  71188.000000   \n",
       "\n",
       "       housing  loan   contact          day month     duration     campaign  \\\n",
       "count     4521  4521      4521  4521.000000  4521  4521.000000  4521.000000   \n",
       "unique       2     2         3          NaN    12          NaN          NaN   \n",
       "top        yes    no  cellular          NaN   may          NaN          NaN   \n",
       "freq      2559  3830      2896          NaN  1398          NaN          NaN   \n",
       "mean       NaN   NaN       NaN    15.915284   NaN   263.961292     2.793630   \n",
       "std        NaN   NaN       NaN     8.247667   NaN   259.856633     3.109807   \n",
       "min        NaN   NaN       NaN     1.000000   NaN     4.000000     1.000000   \n",
       "25%        NaN   NaN       NaN     9.000000   NaN   104.000000     1.000000   \n",
       "50%        NaN   NaN       NaN    16.000000   NaN   185.000000     2.000000   \n",
       "75%        NaN   NaN       NaN    21.000000   NaN   329.000000     3.000000   \n",
       "max        NaN   NaN       NaN    31.000000   NaN  3025.000000    50.000000   \n",
       "\n",
       "              pdays     previous poutcome     y  \n",
       "count   4521.000000  4521.000000     4521  4521  \n",
       "unique          NaN          NaN        4     2  \n",
       "top             NaN          NaN  unknown    no  \n",
       "freq            NaN          NaN     3705  4000  \n",
       "mean      39.766645     0.542579      NaN   NaN  \n",
       "std      100.121124     1.693562      NaN   NaN  \n",
       "min       -1.000000     0.000000      NaN   NaN  \n",
       "25%       -1.000000     0.000000      NaN   NaN  \n",
       "50%       -1.000000     0.000000      NaN   NaN  \n",
       "75%       -1.000000     0.000000      NaN   NaN  \n",
       "max      871.000000    25.000000      NaN   NaN  "
      ]
     },
     "execution_count": 7,
     "metadata": {},
     "output_type": "execute_result"
    }
   ],
   "source": [
    "df.describe(include='all')"
   ]
  },
  {
   "cell_type": "markdown",
   "id": "e981dfb4",
   "metadata": {
    "papermill": {
     "duration": 0.012913,
     "end_time": "2024-02-27T15:31:07.928480",
     "exception": false,
     "start_time": "2024-02-27T15:31:07.915567",
     "status": "completed"
    },
    "tags": []
   },
   "source": [
    "Display information about the DataFrame"
   ]
  },
  {
   "cell_type": "code",
   "execution_count": 8,
   "id": "107eb243",
   "metadata": {
    "execution": {
     "iopub.execute_input": "2024-02-27T15:31:07.955177Z",
     "iopub.status.busy": "2024-02-27T15:31:07.954845Z",
     "iopub.status.idle": "2024-02-27T15:31:07.971680Z",
     "shell.execute_reply": "2024-02-27T15:31:07.970244Z"
    },
    "papermill": {
     "duration": 0.032716,
     "end_time": "2024-02-27T15:31:07.973794",
     "exception": false,
     "start_time": "2024-02-27T15:31:07.941078",
     "status": "completed"
    },
    "tags": []
   },
   "outputs": [
    {
     "name": "stdout",
     "output_type": "stream",
     "text": [
      "<class 'pandas.core.frame.DataFrame'>\n",
      "RangeIndex: 4521 entries, 0 to 4520\n",
      "Data columns (total 17 columns):\n",
      " #   Column     Non-Null Count  Dtype \n",
      "---  ------     --------------  ----- \n",
      " 0   age        4521 non-null   int64 \n",
      " 1   job        4521 non-null   object\n",
      " 2   marital    4521 non-null   object\n",
      " 3   education  4521 non-null   object\n",
      " 4   default    4521 non-null   object\n",
      " 5   balance    4521 non-null   int64 \n",
      " 6   housing    4521 non-null   object\n",
      " 7   loan       4521 non-null   object\n",
      " 8   contact    4521 non-null   object\n",
      " 9   day        4521 non-null   int64 \n",
      " 10  month      4521 non-null   object\n",
      " 11  duration   4521 non-null   int64 \n",
      " 12  campaign   4521 non-null   int64 \n",
      " 13  pdays      4521 non-null   int64 \n",
      " 14  previous   4521 non-null   int64 \n",
      " 15  poutcome   4521 non-null   object\n",
      " 16  y          4521 non-null   object\n",
      "dtypes: int64(7), object(10)\n",
      "memory usage: 600.6+ KB\n"
     ]
    }
   ],
   "source": [
    "df.info()"
   ]
  },
  {
   "cell_type": "markdown",
   "id": "ad90ffb1",
   "metadata": {
    "papermill": {
     "duration": 0.012403,
     "end_time": "2024-02-27T15:31:07.999468",
     "exception": false,
     "start_time": "2024-02-27T15:31:07.987065",
     "status": "completed"
    },
    "tags": []
   },
   "source": [
    "# Preprocessing"
   ]
  },
  {
   "cell_type": "code",
   "execution_count": 9,
   "id": "e8e7ee58",
   "metadata": {
    "execution": {
     "iopub.execute_input": "2024-02-27T15:31:08.026946Z",
     "iopub.status.busy": "2024-02-27T15:31:08.026596Z",
     "iopub.status.idle": "2024-02-27T15:31:08.036332Z",
     "shell.execute_reply": "2024-02-27T15:31:08.035347Z"
    },
    "papermill": {
     "duration": 0.02607,
     "end_time": "2024-02-27T15:31:08.038567",
     "exception": false,
     "start_time": "2024-02-27T15:31:08.012497",
     "status": "completed"
    },
    "tags": []
   },
   "outputs": [
    {
     "data": {
      "text/plain": [
       "age          0\n",
       "job          0\n",
       "marital      0\n",
       "education    0\n",
       "default      0\n",
       "balance      0\n",
       "housing      0\n",
       "loan         0\n",
       "contact      0\n",
       "day          0\n",
       "month        0\n",
       "duration     0\n",
       "campaign     0\n",
       "pdays        0\n",
       "previous     0\n",
       "poutcome     0\n",
       "y            0\n",
       "dtype: int64"
      ]
     },
     "execution_count": 9,
     "metadata": {},
     "output_type": "execute_result"
    }
   ],
   "source": [
    "df.isna().sum()"
   ]
  },
  {
   "cell_type": "markdown",
   "id": "8455c701",
   "metadata": {
    "papermill": {
     "duration": 0.013918,
     "end_time": "2024-02-27T15:31:08.066658",
     "exception": false,
     "start_time": "2024-02-27T15:31:08.052740",
     "status": "completed"
    },
    "tags": []
   },
   "source": [
    "Display the data types of each column in the DataFrame 'df'"
   ]
  },
  {
   "cell_type": "code",
   "execution_count": 10,
   "id": "42891448",
   "metadata": {
    "execution": {
     "iopub.execute_input": "2024-02-27T15:31:08.102357Z",
     "iopub.status.busy": "2024-02-27T15:31:08.101481Z",
     "iopub.status.idle": "2024-02-27T15:31:08.110215Z",
     "shell.execute_reply": "2024-02-27T15:31:08.109251Z"
    },
    "papermill": {
     "duration": 0.031568,
     "end_time": "2024-02-27T15:31:08.112193",
     "exception": false,
     "start_time": "2024-02-27T15:31:08.080625",
     "status": "completed"
    },
    "tags": []
   },
   "outputs": [
    {
     "data": {
      "text/plain": [
       "age           int64\n",
       "job          object\n",
       "marital      object\n",
       "education    object\n",
       "default      object\n",
       "balance       int64\n",
       "housing      object\n",
       "loan         object\n",
       "contact      object\n",
       "day           int64\n",
       "month        object\n",
       "duration      int64\n",
       "campaign      int64\n",
       "pdays         int64\n",
       "previous      int64\n",
       "poutcome     object\n",
       "y            object\n",
       "dtype: object"
      ]
     },
     "execution_count": 10,
     "metadata": {},
     "output_type": "execute_result"
    }
   ],
   "source": [
    "df.dtypes"
   ]
  },
  {
   "cell_type": "markdown",
   "id": "137bf4bc",
   "metadata": {
    "papermill": {
     "duration": 0.0136,
     "end_time": "2024-02-27T15:31:08.140522",
     "exception": false,
     "start_time": "2024-02-27T15:31:08.126922",
     "status": "completed"
    },
    "tags": []
   },
   "source": [
    "Create a bar plot showing the count of each unique value in the 'marital' column of the DataFrame 'df'"
   ]
  },
  {
   "cell_type": "code",
   "execution_count": 11,
   "id": "b4775fe2",
   "metadata": {
    "execution": {
     "iopub.execute_input": "2024-02-27T15:31:08.174713Z",
     "iopub.status.busy": "2024-02-27T15:31:08.173985Z",
     "iopub.status.idle": "2024-02-27T15:31:08.375746Z",
     "shell.execute_reply": "2024-02-27T15:31:08.374737Z"
    },
    "papermill": {
     "duration": 0.22472,
     "end_time": "2024-02-27T15:31:08.378529",
     "exception": false,
     "start_time": "2024-02-27T15:31:08.153809",
     "status": "completed"
    },
    "tags": []
   },
   "outputs": [
    {
     "data": {
      "text/plain": [
       "<Axes: xlabel='marital', ylabel='count'>"
      ]
     },
     "execution_count": 11,
     "metadata": {},
     "output_type": "execute_result"
    },
    {
     "data": {
      "image/png": "[encoded data removed]",
      "text/plain": [
       "<Figure size 640x480 with 1 Axes>"
      ]
     },
     "metadata": {},
     "output_type": "display_data"
    }
   ],
   "source": [
    "sns.countplot(x='marital',data=df)"
   ]
  },
  {
   "cell_type": "markdown",
   "id": "ee786e54",
   "metadata": {
    "papermill": {
     "duration": 0.073982,
     "end_time": "2024-02-27T15:31:08.469159",
     "exception": false,
     "start_time": "2024-02-27T15:31:08.395177",
     "status": "completed"
    },
    "tags": []
   },
   "source": [
    "Create a count plot for the 'poutcome' column in the DataFrame 'df', visualizing the frequency of each category.\n",
    "sns.countplot(x='poutcome', data=df)"
   ]
  },
  {
   "cell_type": "code",
   "execution_count": 12,
   "id": "e396bc55",
   "metadata": {
    "execution": {
     "iopub.execute_input": "2024-02-27T15:31:08.505035Z",
     "iopub.status.busy": "2024-02-27T15:31:08.504279Z",
     "iopub.status.idle": "2024-02-27T15:31:08.684858Z",
     "shell.execute_reply": "2024-02-27T15:31:08.683869Z"
    },
    "papermill": {
     "duration": 0.202498,
     "end_time": "2024-02-27T15:31:08.687760",
     "exception": false,
     "start_time": "2024-02-27T15:31:08.485262",
     "status": "completed"
    },
    "tags": []
   },
   "outputs": [
    {
     "data": {
      "text/plain": [
       "<Axes: xlabel='poutcome', ylabel='count'>"
      ]
     },
     "execution_count": 12,
     "metadata": {},
     "output_type": "execute_result"
    },
    {
     "data": {
      "image/png": "[encoded data removed]",
      "text/plain": [
       "<Figure size 640x480 with 1 Axes>"
      ]
     },
     "metadata": {},
     "output_type": "display_data"
    }
   ],
   "source": [
    "sns.countplot(x='poutcome',data=df)"
   ]
  },
  {
   "cell_type": "markdown",
   "id": "2ad50cb7",
   "metadata": {
    "papermill": {
     "duration": 0.014169,
     "end_time": "2024-02-27T15:31:08.722072",
     "exception": false,
     "start_time": "2024-02-27T15:31:08.707903",
     "status": "completed"
    },
    "tags": []
   },
   "source": [
    "Create a count plot for the 'housing' column using Seaborn to visualize the distribution of housing values."
   ]
  },
  {
   "cell_type": "code",
   "execution_count": 13,
   "id": "f44cb204",
   "metadata": {
    "execution": {
     "iopub.execute_input": "2024-02-27T15:31:08.752948Z",
     "iopub.status.busy": "2024-02-27T15:31:08.752084Z",
     "iopub.status.idle": "2024-02-27T15:31:08.902449Z",
     "shell.execute_reply": "2024-02-27T15:31:08.901459Z"
    },
    "papermill": {
     "duration": 0.168131,
     "end_time": "2024-02-27T15:31:08.904470",
     "exception": false,
     "start_time": "2024-02-27T15:31:08.736339",
     "status": "completed"
    },
    "tags": []
   },
   "outputs": [
    {
     "data": {
      "text/plain": [
       "<Axes: xlabel='housing', ylabel='count'>"
      ]
     },
     "execution_count": 13,
     "metadata": {},
     "output_type": "execute_result"
    },
    {
     "data": {
      "image/png": "[encoded data removed]",
      "text/plain": [
       "<Figure size 640x480 with 1 Axes>"
      ]
     },
     "metadata": {},
     "output_type": "display_data"
    }
   ],
   "source": [
    "sns.countplot(x='housing',data=df)"
   ]
  },
  {
   "cell_type": "markdown",
   "id": "509dd436",
   "metadata": {
    "papermill": {
     "duration": 0.014275,
     "end_time": "2024-02-27T15:31:08.933401",
     "exception": false,
     "start_time": "2024-02-27T15:31:08.919126",
     "status": "completed"
    },
    "tags": []
   },
   "source": [
    "# Countplot for categorical features"
   ]
  },
  {
   "cell_type": "code",
   "execution_count": 14,
   "id": "314170a2",
   "metadata": {
    "execution": {
     "iopub.execute_input": "2024-02-27T15:31:08.964858Z",
     "iopub.status.busy": "2024-02-27T15:31:08.963986Z",
     "iopub.status.idle": "2024-02-27T15:31:10.490214Z",
     "shell.execute_reply": "2024-02-27T15:31:10.489386Z"
    },
    "papermill": {
     "duration": 1.544923,
     "end_time": "2024-02-27T15:31:10.492727",
     "exception": false,
     "start_time": "2024-02-27T15:31:08.947804",
     "status": "completed"
    },
    "tags": []
   },
   "outputs": [
    {
     "data": {
      "image/png": "[encoded data removed]",
      "text/plain": [
       "<Figure size 1500x1500 with 9 Axes>"
      ]
     },
     "metadata": {},
     "output_type": "display_data"
    }
   ],
   "source": [
    "categorical_features = ['job', 'marital', 'education', 'default', 'housing', 'loan', 'contact', 'month', 'poutcome']\n",
    "# Set up subplots\n",
    "fig, axes = plt.subplots(nrows=len(categorical_features)//3 + 1, ncols=3, figsize=(15, 15))\n",
    "fig.subplots_adjust(hspace=0.5)\n",
    "\n",
    "# Loop through categorical features and create countplots\n",
    "for i, feature in enumerate(categorical_features):\n",
    "    row, col = i // 3, i % 3\n",
    "    sns.countplot(x=feature, data=df, ax=axes[row, col])\n",
    "    axes[row, col].set_title(f'Distribution of {feature}')\n",
    "\n",
    "# Remove empty subplots\n",
    "for i in range(len(categorical_features), len(axes.flat)):\n",
    "    fig.delaxes(axes.flatten()[i])\n",
    "\n",
    "# Show the plot\n",
    "plt.show()\n",
    "\n",
    "# Plot histograms for each categorical feature\n",
    "for i, feature in enumerate(categorical_features):\n",
    "    row, col = i // 3, i % 3\n",
    "    sns.countplot(x=feature, data=df, ax=axes[row, col])\n",
    "    axes[row, col].set_title(f'Distribution of {feature}')\n",
    "\n",
    "\n",
    "plt.show()"
   ]
  },
  {
   "cell_type": "code",
   "execution_count": 15,
   "id": "f8e14ad1",
   "metadata": {
    "execution": {
     "iopub.execute_input": "2024-02-27T15:31:10.529848Z",
     "iopub.status.busy": "2024-02-27T15:31:10.528853Z",
     "iopub.status.idle": "2024-02-27T15:31:12.364338Z",
     "shell.execute_reply": "2024-02-27T15:31:12.363286Z"
    },
    "papermill": {
     "duration": 1.856688,
     "end_time": "2024-02-27T15:31:12.366428",
     "exception": false,
     "start_time": "2024-02-27T15:31:10.509740",
     "status": "completed"
    },
    "tags": []
   },
   "outputs": [
    {
     "data": {
      "image/png": "[encoded data removed]",
      "text/plain": [
       "<Figure size 640x480 with 1 Axes>"
      ]
     },
     "metadata": {},
     "output_type": "display_data"
    },
    {
     "data": {
      "image/png": "[encoded data removed]",
      "text/plain": [
       "<Figure size 1200x1000 with 9 Axes>"
      ]
     },
     "metadata": {},
     "output_type": "display_data"
    },
    {
     "data": {
      "image/png": "[encoded data removed]",
      "text/plain": [
       "<Figure size 1400x1000 with 1 Axes>"
      ]
     },
     "metadata": {},
     "output_type": "display_data"
    }
   ],
   "source": [
    "# Distribution of the target variable 'y'\n",
    "sns.countplot(x='y', data=df)\n",
    "plt.title('Distribution of Target Variable (y)')\n",
    "plt.show()\n",
    "\n",
    "# Distribution of numerical features\n",
    "df.hist(figsize=(12, 10), bins=20)\n",
    "plt.suptitle('Histograms of Numerical Features')\n",
    "plt.show()\n",
    "\n",
    "# Boxplot of numerical features\n",
    "plt.figure(figsize=(14, 10))\n",
    "sns.boxplot(data=df, orient='h')\n",
    "plt.title('Boxplot of Numerical Features')\n",
    "plt.show()"
   ]
  },
  {
   "cell_type": "markdown",
   "id": "09fa2515",
   "metadata": {
    "papermill": {
     "duration": 0.017924,
     "end_time": "2024-02-27T15:31:12.402077",
     "exception": false,
     "start_time": "2024-02-27T15:31:12.384153",
     "status": "completed"
    },
    "tags": []
   },
   "source": [
    "Use LabelEncoder to transform categorical features in the list 'lst' to numerical values in the DataFrame 'df'"
   ]
  },
  {
   "cell_type": "code",
   "execution_count": 16,
   "id": "60445a73",
   "metadata": {
    "execution": {
     "iopub.execute_input": "2024-02-27T15:31:12.449218Z",
     "iopub.status.busy": "2024-02-27T15:31:12.447950Z",
     "iopub.status.idle": "2024-02-27T15:31:12.476172Z",
     "shell.execute_reply": "2024-02-27T15:31:12.475035Z"
    },
    "papermill": {
     "duration": 0.056211,
     "end_time": "2024-02-27T15:31:12.478725",
     "exception": false,
     "start_time": "2024-02-27T15:31:12.422514",
     "status": "completed"
    },
    "tags": []
   },
   "outputs": [],
   "source": [
    "lst=[\"job\",\"marital\",\"education\",\"default\",\"housing\",\"housing\",\"loan\",\"contact\",\"month\",\"poutcome\",\"y\"]\n",
    "le=LabelEncoder()\n",
    "for i in lst:\n",
    "    df[i]=le.fit_transform(df[i])"
   ]
  },
  {
   "cell_type": "markdown",
   "id": "2d096021",
   "metadata": {
    "papermill": {
     "duration": 0.017639,
     "end_time": "2024-02-27T15:31:12.514718",
     "exception": false,
     "start_time": "2024-02-27T15:31:12.497079",
     "status": "completed"
    },
    "tags": []
   },
   "source": [
    "Renaming the 'y' column to 'loan_approval' in the DataFrame"
   ]
  },
  {
   "cell_type": "code",
   "execution_count": 17,
   "id": "d82a05ba",
   "metadata": {
    "execution": {
     "iopub.execute_input": "2024-02-27T15:31:12.552363Z",
     "iopub.status.busy": "2024-02-27T15:31:12.551945Z",
     "iopub.status.idle": "2024-02-27T15:31:12.557120Z",
     "shell.execute_reply": "2024-02-27T15:31:12.556142Z"
    },
    "papermill": {
     "duration": 0.026501,
     "end_time": "2024-02-27T15:31:12.559176",
     "exception": false,
     "start_time": "2024-02-27T15:31:12.532675",
     "status": "completed"
    },
    "tags": []
   },
   "outputs": [],
   "source": [
    "df.rename(columns={\"y\": \"loan_approval\"}, inplace=True)"
   ]
  },
  {
   "cell_type": "markdown",
   "id": "51febcd2",
   "metadata": {
    "papermill": {
     "duration": 0.019488,
     "end_time": "2024-02-27T15:31:12.596753",
     "exception": false,
     "start_time": "2024-02-27T15:31:12.577265",
     "status": "completed"
    },
    "tags": []
   },
   "source": [
    "Selecting all rows and all columns except the last one from the DataFrame 'df' and storing it in the variable 'x'"
   ]
  },
  {
   "cell_type": "code",
   "execution_count": 18,
   "id": "badd7e82",
   "metadata": {
    "execution": {
     "iopub.execute_input": "2024-02-27T15:31:12.635351Z",
     "iopub.status.busy": "2024-02-27T15:31:12.634259Z",
     "iopub.status.idle": "2024-02-27T15:31:12.651414Z",
     "shell.execute_reply": "2024-02-27T15:31:12.650443Z"
    },
    "papermill": {
     "duration": 0.038777,
     "end_time": "2024-02-27T15:31:12.653621",
     "exception": false,
     "start_time": "2024-02-27T15:31:12.614844",
     "status": "completed"
    },
    "tags": []
   },
   "outputs": [
    {
     "data": {
      "text/html": [
       "<div>\n",
       "<style scoped>\n",
       "    .dataframe tbody tr th:only-of-type {\n",
       "        vertical-align: middle;\n",
       "    }\n",
       "\n",
       "    .dataframe tbody tr th {\n",
       "        vertical-align: top;\n",
       "    }\n",
       "\n",
       "    .dataframe thead th {\n",
       "        text-align: right;\n",
       "    }\n",
       "</style>\n",
       "<table border=\"1\" class=\"dataframe\">\n",
       "  <thead>\n",
       "    <tr style=\"text-align: right;\">\n",
       "      <th></th>\n",
       "      <th>age</th>\n",
       "      <th>job</th>\n",
       "      <th>marital</th>\n",
       "      <th>education</th>\n",
       "      <th>default</th>\n",
       "      <th>balance</th>\n",
       "      <th>housing</th>\n",
       "      <th>loan</th>\n",
       "      <th>contact</th>\n",
       "      <th>day</th>\n",
       "      <th>month</th>\n",
       "      <th>duration</th>\n",
       "      <th>campaign</th>\n",
       "      <th>pdays</th>\n",
       "      <th>previous</th>\n",
       "      <th>poutcome</th>\n",
       "    </tr>\n",
       "  </thead>\n",
       "  <tbody>\n",
       "    <tr>\n",
       "      <th>0</th>\n",
       "      <td>30</td>\n",
       "      <td>10</td>\n",
       "      <td>1</td>\n",
       "      <td>0</td>\n",
       "      <td>0</td>\n",
       "      <td>1787</td>\n",
       "      <td>0</td>\n",
       "      <td>0</td>\n",
       "      <td>0</td>\n",
       "      <td>19</td>\n",
       "      <td>10</td>\n",
       "      <td>79</td>\n",
       "      <td>1</td>\n",
       "      <td>-1</td>\n",
       "      <td>0</td>\n",
       "      <td>3</td>\n",
       "    </tr>\n",
       "    <tr>\n",
       "      <th>1</th>\n",
       "      <td>33</td>\n",
       "      <td>7</td>\n",
       "      <td>1</td>\n",
       "      <td>1</td>\n",
       "      <td>0</td>\n",
       "      <td>4789</td>\n",
       "      <td>1</td>\n",
       "      <td>1</td>\n",
       "      <td>0</td>\n",
       "      <td>11</td>\n",
       "      <td>8</td>\n",
       "      <td>220</td>\n",
       "      <td>1</td>\n",
       "      <td>339</td>\n",
       "      <td>4</td>\n",
       "      <td>0</td>\n",
       "    </tr>\n",
       "    <tr>\n",
       "      <th>2</th>\n",
       "      <td>35</td>\n",
       "      <td>4</td>\n",
       "      <td>2</td>\n",
       "      <td>2</td>\n",
       "      <td>0</td>\n",
       "      <td>1350</td>\n",
       "      <td>1</td>\n",
       "      <td>0</td>\n",
       "      <td>0</td>\n",
       "      <td>16</td>\n",
       "      <td>0</td>\n",
       "      <td>185</td>\n",
       "      <td>1</td>\n",
       "      <td>330</td>\n",
       "      <td>1</td>\n",
       "      <td>0</td>\n",
       "    </tr>\n",
       "    <tr>\n",
       "      <th>3</th>\n",
       "      <td>30</td>\n",
       "      <td>4</td>\n",
       "      <td>1</td>\n",
       "      <td>2</td>\n",
       "      <td>0</td>\n",
       "      <td>1476</td>\n",
       "      <td>1</td>\n",
       "      <td>1</td>\n",
       "      <td>2</td>\n",
       "      <td>3</td>\n",
       "      <td>6</td>\n",
       "      <td>199</td>\n",
       "      <td>4</td>\n",
       "      <td>-1</td>\n",
       "      <td>0</td>\n",
       "      <td>3</td>\n",
       "    </tr>\n",
       "    <tr>\n",
       "      <th>4</th>\n",
       "      <td>59</td>\n",
       "      <td>1</td>\n",
       "      <td>1</td>\n",
       "      <td>1</td>\n",
       "      <td>0</td>\n",
       "      <td>0</td>\n",
       "      <td>1</td>\n",
       "      <td>0</td>\n",
       "      <td>2</td>\n",
       "      <td>5</td>\n",
       "      <td>8</td>\n",
       "      <td>226</td>\n",
       "      <td>1</td>\n",
       "      <td>-1</td>\n",
       "      <td>0</td>\n",
       "      <td>3</td>\n",
       "    </tr>\n",
       "    <tr>\n",
       "      <th>...</th>\n",
       "      <td>...</td>\n",
       "      <td>...</td>\n",
       "      <td>...</td>\n",
       "      <td>...</td>\n",
       "      <td>...</td>\n",
       "      <td>...</td>\n",
       "      <td>...</td>\n",
       "      <td>...</td>\n",
       "      <td>...</td>\n",
       "      <td>...</td>\n",
       "      <td>...</td>\n",
       "      <td>...</td>\n",
       "      <td>...</td>\n",
       "      <td>...</td>\n",
       "      <td>...</td>\n",
       "      <td>...</td>\n",
       "    </tr>\n",
       "    <tr>\n",
       "      <th>4516</th>\n",
       "      <td>33</td>\n",
       "      <td>7</td>\n",
       "      <td>1</td>\n",
       "      <td>1</td>\n",
       "      <td>0</td>\n",
       "      <td>-333</td>\n",
       "      <td>1</td>\n",
       "      <td>0</td>\n",
       "      <td>0</td>\n",
       "      <td>30</td>\n",
       "      <td>5</td>\n",
       "      <td>329</td>\n",
       "      <td>5</td>\n",
       "      <td>-1</td>\n",
       "      <td>0</td>\n",
       "      <td>3</td>\n",
       "    </tr>\n",
       "    <tr>\n",
       "      <th>4517</th>\n",
       "      <td>57</td>\n",
       "      <td>6</td>\n",
       "      <td>1</td>\n",
       "      <td>2</td>\n",
       "      <td>1</td>\n",
       "      <td>-3313</td>\n",
       "      <td>1</td>\n",
       "      <td>1</td>\n",
       "      <td>2</td>\n",
       "      <td>9</td>\n",
       "      <td>8</td>\n",
       "      <td>153</td>\n",
       "      <td>1</td>\n",
       "      <td>-1</td>\n",
       "      <td>0</td>\n",
       "      <td>3</td>\n",
       "    </tr>\n",
       "    <tr>\n",
       "      <th>4518</th>\n",
       "      <td>57</td>\n",
       "      <td>9</td>\n",
       "      <td>1</td>\n",
       "      <td>1</td>\n",
       "      <td>0</td>\n",
       "      <td>295</td>\n",
       "      <td>0</td>\n",
       "      <td>0</td>\n",
       "      <td>0</td>\n",
       "      <td>19</td>\n",
       "      <td>1</td>\n",
       "      <td>151</td>\n",
       "      <td>11</td>\n",
       "      <td>-1</td>\n",
       "      <td>0</td>\n",
       "      <td>3</td>\n",
       "    </tr>\n",
       "    <tr>\n",
       "      <th>4519</th>\n",
       "      <td>28</td>\n",
       "      <td>1</td>\n",
       "      <td>1</td>\n",
       "      <td>1</td>\n",
       "      <td>0</td>\n",
       "      <td>1137</td>\n",
       "      <td>0</td>\n",
       "      <td>0</td>\n",
       "      <td>0</td>\n",
       "      <td>6</td>\n",
       "      <td>3</td>\n",
       "      <td>129</td>\n",
       "      <td>4</td>\n",
       "      <td>211</td>\n",
       "      <td>3</td>\n",
       "      <td>1</td>\n",
       "    </tr>\n",
       "    <tr>\n",
       "      <th>4520</th>\n",
       "      <td>44</td>\n",
       "      <td>2</td>\n",
       "      <td>2</td>\n",
       "      <td>2</td>\n",
       "      <td>0</td>\n",
       "      <td>1136</td>\n",
       "      <td>1</td>\n",
       "      <td>1</td>\n",
       "      <td>0</td>\n",
       "      <td>3</td>\n",
       "      <td>0</td>\n",
       "      <td>345</td>\n",
       "      <td>2</td>\n",
       "      <td>249</td>\n",
       "      <td>7</td>\n",
       "      <td>1</td>\n",
       "    </tr>\n",
       "  </tbody>\n",
       "</table>\n",
       "<p>4521 rows × 16 columns</p>\n",
       "</div>"
      ],
      "text/plain": [
       "      age  job  marital  education  default  balance  housing  loan  contact  \\\n",
       "0      30   10        1          0        0     1787        0     0        0   \n",
       "1      33    7        1          1        0     4789        1     1        0   \n",
       "2      35    4        2          2        0     1350        1     0        0   \n",
       "3      30    4        1          2        0     1476        1     1        2   \n",
       "4      59    1        1          1        0        0        1     0        2   \n",
       "...   ...  ...      ...        ...      ...      ...      ...   ...      ...   \n",
       "4516   33    7        1          1        0     -333        1     0        0   \n",
       "4517   57    6        1          2        1    -3313        1     1        2   \n",
       "4518   57    9        1          1        0      295        0     0        0   \n",
       "4519   28    1        1          1        0     1137        0     0        0   \n",
       "4520   44    2        2          2        0     1136        1     1        0   \n",
       "\n",
       "      day  month  duration  campaign  pdays  previous  poutcome  \n",
       "0      19     10        79         1     -1         0         3  \n",
       "1      11      8       220         1    339         4         0  \n",
       "2      16      0       185         1    330         1         0  \n",
       "3       3      6       199         4     -1         0         3  \n",
       "4       5      8       226         1     -1         0         3  \n",
       "...   ...    ...       ...       ...    ...       ...       ...  \n",
       "4516   30      5       329         5     -1         0         3  \n",
       "4517    9      8       153         1     -1         0         3  \n",
       "4518   19      1       151        11     -1         0         3  \n",
       "4519    6      3       129         4    211         3         1  \n",
       "4520    3      0       345         2    249         7         1  \n",
       "\n",
       "[4521 rows x 16 columns]"
      ]
     },
     "execution_count": 18,
     "metadata": {},
     "output_type": "execute_result"
    }
   ],
   "source": [
    "x=df.iloc[:,:-1]\n",
    "x"
   ]
  },
  {
   "cell_type": "markdown",
   "id": "48e2fe43",
   "metadata": {
    "papermill": {
     "duration": 0.018162,
     "end_time": "2024-02-27T15:31:12.690706",
     "exception": false,
     "start_time": "2024-02-27T15:31:12.672544",
     "status": "completed"
    },
    "tags": []
   },
   "source": [
    "Extracting the last column of the DataFrame and assigning it to the variable y"
   ]
  },
  {
   "cell_type": "code",
   "execution_count": 19,
   "id": "6fb9876d",
   "metadata": {
    "execution": {
     "iopub.execute_input": "2024-02-27T15:31:12.731087Z",
     "iopub.status.busy": "2024-02-27T15:31:12.729732Z",
     "iopub.status.idle": "2024-02-27T15:31:12.738929Z",
     "shell.execute_reply": "2024-02-27T15:31:12.737936Z"
    },
    "papermill": {
     "duration": 0.031428,
     "end_time": "2024-02-27T15:31:12.741067",
     "exception": false,
     "start_time": "2024-02-27T15:31:12.709639",
     "status": "completed"
    },
    "tags": []
   },
   "outputs": [
    {
     "data": {
      "text/plain": [
       "0       0\n",
       "1       0\n",
       "2       0\n",
       "3       0\n",
       "4       0\n",
       "       ..\n",
       "4516    0\n",
       "4517    0\n",
       "4518    0\n",
       "4519    0\n",
       "4520    0\n",
       "Name: loan_approval, Length: 4521, dtype: int64"
      ]
     },
     "execution_count": 19,
     "metadata": {},
     "output_type": "execute_result"
    }
   ],
   "source": [
    "y=df.iloc[:,-1]\n",
    "y"
   ]
  },
  {
   "cell_type": "markdown",
   "id": "c33bf61d",
   "metadata": {
    "papermill": {
     "duration": 0.018996,
     "end_time": "2024-02-27T15:31:12.778903",
     "exception": false,
     "start_time": "2024-02-27T15:31:12.759907",
     "status": "completed"
    },
    "tags": []
   },
   "source": [
    "Using RandomOverSampler to address class imbalance by oversampling the minority class in the dataset"
   ]
  },
  {
   "cell_type": "code",
   "execution_count": 20,
   "id": "5178415d",
   "metadata": {
    "execution": {
     "iopub.execute_input": "2024-02-27T15:31:12.818614Z",
     "iopub.status.busy": "2024-02-27T15:31:12.817682Z",
     "iopub.status.idle": "2024-02-27T15:31:12.971428Z",
     "shell.execute_reply": "2024-02-27T15:31:12.970261Z"
    },
    "papermill": {
     "duration": 0.176302,
     "end_time": "2024-02-27T15:31:12.973914",
     "exception": false,
     "start_time": "2024-02-27T15:31:12.797612",
     "status": "completed"
    },
    "tags": []
   },
   "outputs": [],
   "source": [
    "from imblearn.over_sampling import RandomOverSampler\n",
    "sm=RandomOverSampler()\n",
    "x,y=sm.fit_resample(x,y)"
   ]
  },
  {
   "cell_type": "code",
   "execution_count": 21,
   "id": "f439f86b",
   "metadata": {
    "execution": {
     "iopub.execute_input": "2024-02-27T15:31:13.013018Z",
     "iopub.status.busy": "2024-02-27T15:31:13.012477Z",
     "iopub.status.idle": "2024-02-27T15:31:13.025752Z",
     "shell.execute_reply": "2024-02-27T15:31:13.024759Z"
    },
    "papermill": {
     "duration": 0.035374,
     "end_time": "2024-02-27T15:31:13.027984",
     "exception": false,
     "start_time": "2024-02-27T15:31:12.992610",
     "status": "completed"
    },
    "tags": []
   },
   "outputs": [
    {
     "data": {
      "text/plain": [
       "array([[0.16176471, 0.90909091, 0.5       , ..., 0.        , 0.        ,\n",
       "        1.        ],\n",
       "       [0.20588235, 0.63636364, 0.5       , ..., 0.38990826, 0.16      ,\n",
       "        0.        ],\n",
       "       [0.23529412, 0.36363636, 1.        , ..., 0.37958716, 0.04      ,\n",
       "        0.        ],\n",
       "       ...,\n",
       "       [0.22058824, 0.63636364, 0.5       , ..., 0.14678899, 0.12      ,\n",
       "        0.66666667],\n",
       "       [0.22058824, 0.09090909, 1.        , ..., 0.        , 0.        ,\n",
       "        1.        ],\n",
       "       [0.39705882, 0.        , 0.5       , ..., 0.        , 0.        ,\n",
       "        1.        ]])"
      ]
     },
     "execution_count": 21,
     "metadata": {},
     "output_type": "execute_result"
    }
   ],
   "source": [
    "#minmaxscaler\n",
    "ms=MinMaxScaler()\n",
    "Xsc=ms.fit_transform(x)\n",
    "Xsc"
   ]
  },
  {
   "cell_type": "code",
   "execution_count": 22,
   "id": "1d6e5df3",
   "metadata": {
    "execution": {
     "iopub.execute_input": "2024-02-27T15:31:13.067189Z",
     "iopub.status.busy": "2024-02-27T15:31:13.066835Z",
     "iopub.status.idle": "2024-02-27T15:31:13.074138Z",
     "shell.execute_reply": "2024-02-27T15:31:13.073258Z"
    },
    "papermill": {
     "duration": 0.029484,
     "end_time": "2024-02-27T15:31:13.076307",
     "exception": false,
     "start_time": "2024-02-27T15:31:13.046823",
     "status": "completed"
    },
    "tags": []
   },
   "outputs": [],
   "source": [
    "#splitting to test and train data\n",
    "X_train,X_test,y_train,y_test=train_test_split(Xsc,y,test_size=0.1,random_state=4)"
   ]
  },
  {
   "cell_type": "markdown",
   "id": "140ea8cc",
   "metadata": {
    "papermill": {
     "duration": 0.018555,
     "end_time": "2024-02-27T15:31:13.113928",
     "exception": false,
     "start_time": "2024-02-27T15:31:13.095373",
     "status": "completed"
    },
    "tags": []
   },
   "source": [
    "# MODEL IMPLIMENTATION"
   ]
  },
  {
   "cell_type": "code",
   "execution_count": 23,
   "id": "1b990869",
   "metadata": {
    "execution": {
     "iopub.execute_input": "2024-02-27T15:31:13.154431Z",
     "iopub.status.busy": "2024-02-27T15:31:13.153473Z",
     "iopub.status.idle": "2024-02-27T15:31:13.244171Z",
     "shell.execute_reply": "2024-02-27T15:31:13.242937Z"
    },
    "papermill": {
     "duration": 0.113535,
     "end_time": "2024-02-27T15:31:13.246782",
     "exception": false,
     "start_time": "2024-02-27T15:31:13.133247",
     "status": "completed"
    },
    "tags": []
   },
   "outputs": [
    {
     "name": "stdout",
     "output_type": "stream",
     "text": [
      "              precision    recall  f1-score   support\n",
      "\n",
      "           0       1.00      0.77      0.87       390\n",
      "           1       0.82      1.00      0.90       410\n",
      "\n",
      "    accuracy                           0.89       800\n",
      "   macro avg       0.91      0.88      0.89       800\n",
      "weighted avg       0.91      0.89      0.89       800\n",
      "\n"
     ]
    }
   ],
   "source": [
    "knn1=KNeighborsClassifier(algorithm='auto',n_neighbors=9,weights='distance')\n",
    "knn1.fit(X_train,y_train)\n",
    "y_pred1=knn1.predict(X_test)\n",
    "print(classification_report(y_test,y_pred1))"
   ]
  },
  {
   "cell_type": "markdown",
   "id": "6c559c55",
   "metadata": {
    "papermill": {
     "duration": 0.018643,
     "end_time": "2024-02-27T15:31:13.284559",
     "exception": false,
     "start_time": "2024-02-27T15:31:13.265916",
     "status": "completed"
    },
    "tags": []
   },
   "source": [
    "Creating and training a Support Vector Classifier with RBF kernel, C=10, and gamma=1, and making predictions on the test set."
   ]
  },
  {
   "cell_type": "code",
   "execution_count": 24,
   "id": "7dced553",
   "metadata": {
    "execution": {
     "iopub.execute_input": "2024-02-27T15:31:13.323728Z",
     "iopub.status.busy": "2024-02-27T15:31:13.323302Z",
     "iopub.status.idle": "2024-02-27T15:31:15.272096Z",
     "shell.execute_reply": "2024-02-27T15:31:15.270798Z"
    },
    "papermill": {
     "duration": 1.971115,
     "end_time": "2024-02-27T15:31:15.274296",
     "exception": false,
     "start_time": "2024-02-27T15:31:13.303181",
     "status": "completed"
    },
    "tags": []
   },
   "outputs": [
    {
     "data": {
      "text/plain": [
       "array([0, 1, 1, 1, 1, 1, 1, 1, 1, 1, 1, 1, 0, 0, 1, 1, 0, 1, 1, 0, 1, 1,\n",
       "       1, 1, 1, 0, 1, 1, 1, 1, 1, 1, 0, 1, 1, 1, 1, 0, 0, 1, 0, 0, 0, 0,\n",
       "       0, 1, 1, 0, 1, 0, 0, 1, 0, 0, 0, 1, 1, 0, 1, 0, 0, 1, 1, 1, 1, 1,\n",
       "       0, 1, 1, 0, 0, 0, 1, 1, 1, 0, 0, 0, 0, 0, 1, 1, 0, 1, 0, 0, 1, 1,\n",
       "       1, 0, 1, 1, 1, 1, 0, 1, 0, 0, 0, 0, 0, 1, 1, 1, 0, 1, 1, 1, 1, 0,\n",
       "       0, 1, 1, 1, 0, 1, 0, 1, 1, 0, 1, 1, 1, 1, 0, 1, 1, 0, 0, 0, 0, 1,\n",
       "       1, 0, 1, 0, 0, 1, 0, 1, 1, 0, 0, 1, 1, 0, 1, 0, 1, 0, 1, 0, 1, 1,\n",
       "       0, 0, 0, 1, 0, 0, 0, 0, 0, 1, 1, 1, 1, 0, 1, 1, 1, 0, 1, 0, 1, 0,\n",
       "       1, 1, 1, 1, 0, 0, 1, 0, 0, 1, 1, 0, 0, 1, 0, 0, 1, 1, 0, 0, 1, 0,\n",
       "       0, 1, 0, 0, 0, 1, 0, 1, 1, 1, 1, 0, 0, 1, 1, 1, 1, 1, 0, 0, 1, 0,\n",
       "       1, 0, 1, 1, 1, 0, 0, 1, 1, 1, 1, 0, 0, 1, 1, 1, 1, 0, 1, 1, 0, 1,\n",
       "       0, 1, 1, 0, 1, 1, 0, 0, 0, 1, 1, 0, 1, 0, 1, 0, 1, 0, 0, 0, 0, 1,\n",
       "       1, 1, 0, 0, 1, 0, 1, 1, 1, 0, 1, 0, 1, 1, 0, 1, 0, 0, 1, 1, 1, 0,\n",
       "       1, 1, 0, 1, 0, 0, 0, 1, 1, 1, 1, 1, 0, 0, 1, 1, 0, 0, 0, 0, 0, 1,\n",
       "       1, 1, 0, 0, 0, 0, 0, 1, 0, 0, 1, 1, 0, 0, 1, 1, 1, 1, 1, 1, 1, 0,\n",
       "       1, 1, 1, 0, 0, 1, 1, 1, 1, 1, 0, 1, 1, 1, 0, 1, 0, 1, 0, 0, 1, 0,\n",
       "       1, 1, 1, 1, 1, 0, 1, 0, 0, 1, 1, 0, 1, 0, 0, 0, 0, 1, 1, 0, 0, 0,\n",
       "       1, 0, 1, 1, 0, 0, 1, 0, 1, 0, 0, 1, 0, 1, 0, 1, 1, 1, 1, 1, 1, 1,\n",
       "       1, 0, 0, 0, 1, 1, 1, 0, 1, 0, 0, 1, 1, 1, 1, 1, 0, 1, 1, 0, 0, 0,\n",
       "       1, 0, 0, 0, 0, 1, 0, 1, 1, 1, 1, 1, 1, 0, 1, 1, 0, 0, 1, 0, 0, 1,\n",
       "       1, 1, 1, 0, 0, 0, 0, 0, 0, 0, 1, 0, 1, 1, 1, 0, 1, 0, 0, 0, 1, 0,\n",
       "       0, 0, 1, 1, 0, 1, 0, 0, 1, 0, 1, 0, 1, 0, 1, 0, 1, 0, 0, 1, 1, 1,\n",
       "       0, 0, 1, 1, 1, 1, 1, 0, 1, 0, 0, 0, 0, 0, 1, 0, 0, 1, 1, 1, 0, 0,\n",
       "       0, 0, 0, 0, 1, 0, 1, 1, 0, 0, 1, 1, 1, 0, 1, 0, 1, 1, 1, 0, 0, 0,\n",
       "       1, 1, 1, 1, 1, 1, 1, 0, 1, 0, 1, 1, 0, 0, 1, 0, 1, 1, 1, 1, 1, 1,\n",
       "       0, 1, 0, 1, 1, 1, 0, 0, 1, 1, 1, 0, 0, 0, 1, 1, 1, 1, 0, 0, 1, 1,\n",
       "       0, 1, 0, 1, 1, 1, 0, 0, 1, 1, 0, 1, 1, 0, 1, 0, 0, 1, 0, 1, 1, 1,\n",
       "       0, 0, 0, 0, 0, 0, 0, 1, 1, 1, 1, 1, 0, 1, 0, 0, 1, 0, 1, 1, 0, 1,\n",
       "       1, 1, 0, 1, 0, 1, 0, 1, 1, 1, 1, 1, 1, 0, 0, 1, 1, 0, 1, 1, 1, 0,\n",
       "       1, 0, 0, 1, 0, 0, 0, 1, 1, 1, 0, 0, 1, 0, 0, 0, 0, 0, 0, 0, 1, 1,\n",
       "       1, 1, 1, 1, 0, 0, 1, 1, 1, 0, 0, 0, 1, 1, 0, 1, 0, 1, 0, 1, 0, 1,\n",
       "       0, 0, 0, 1, 0, 1, 1, 0, 1, 1, 1, 1, 0, 1, 0, 0, 1, 1, 1, 0, 0, 1,\n",
       "       1, 0, 1, 1, 0, 1, 1, 1, 0, 0, 1, 0, 1, 1, 1, 1, 1, 1, 1, 1, 1, 1,\n",
       "       0, 0, 1, 0, 0, 1, 0, 1, 1, 0, 0, 0, 0, 1, 1, 1, 0, 1, 0, 1, 0, 0,\n",
       "       0, 1, 1, 1, 0, 1, 0, 1, 1, 1, 0, 1, 1, 1, 0, 1, 0, 1, 0, 0, 0, 1,\n",
       "       0, 1, 0, 1, 0, 1, 1, 0, 1, 0, 0, 0, 0, 1, 0, 1, 0, 0, 1, 0, 0, 0,\n",
       "       1, 0, 1, 1, 1, 1, 0, 1])"
      ]
     },
     "execution_count": 24,
     "metadata": {},
     "output_type": "execute_result"
    }
   ],
   "source": [
    "sv=SVC(C=10, gamma =1, kernel= 'rbf')\n",
    "sv.fit(X_train,y_train)\n",
    "y_pred2=sv.predict(X_test)\n",
    "y_pred2"
   ]
  },
  {
   "cell_type": "markdown",
   "id": "f6edd385",
   "metadata": {
    "papermill": {
     "duration": 0.018609,
     "end_time": "2024-02-27T15:31:15.311794",
     "exception": false,
     "start_time": "2024-02-27T15:31:15.293185",
     "status": "completed"
    },
    "tags": []
   },
   "source": [
    "Print the classification report for the predicted values (y_pred2) compared to the true values (y_test)."
   ]
  },
  {
   "cell_type": "code",
   "execution_count": 25,
   "id": "9cd347d3",
   "metadata": {
    "execution": {
     "iopub.execute_input": "2024-02-27T15:31:15.351158Z",
     "iopub.status.busy": "2024-02-27T15:31:15.350767Z",
     "iopub.status.idle": "2024-02-27T15:31:15.365032Z",
     "shell.execute_reply": "2024-02-27T15:31:15.363498Z"
    },
    "papermill": {
     "duration": 0.036758,
     "end_time": "2024-02-27T15:31:15.367315",
     "exception": false,
     "start_time": "2024-02-27T15:31:15.330557",
     "status": "completed"
    },
    "tags": []
   },
   "outputs": [
    {
     "name": "stdout",
     "output_type": "stream",
     "text": [
      "              precision    recall  f1-score   support\n",
      "\n",
      "           0       0.93      0.85      0.89       390\n",
      "           1       0.87      0.94      0.90       410\n",
      "\n",
      "    accuracy                           0.90       800\n",
      "   macro avg       0.90      0.89      0.89       800\n",
      "weighted avg       0.90      0.90      0.89       800\n",
      "\n"
     ]
    }
   ],
   "source": [
    "print(classification_report(y_test,y_pred2))"
   ]
  },
  {
   "cell_type": "code",
   "execution_count": 26,
   "id": "67e063fb",
   "metadata": {
    "execution": {
     "iopub.execute_input": "2024-02-27T15:31:15.407809Z",
     "iopub.status.busy": "2024-02-27T15:31:15.406865Z",
     "iopub.status.idle": "2024-02-27T15:31:15.415866Z",
     "shell.execute_reply": "2024-02-27T15:31:15.415016Z"
    },
    "papermill": {
     "duration": 0.031647,
     "end_time": "2024-02-27T15:31:15.418234",
     "exception": false,
     "start_time": "2024-02-27T15:31:15.386587",
     "status": "completed"
    },
    "tags": []
   },
   "outputs": [],
   "source": [
    "nb=GaussianNB()\n",
    "nb.fit(X_train,y_train)\n",
    "y_pred2=nb.predict(X_test)"
   ]
  },
  {
   "cell_type": "markdown",
   "id": "fe0759bc",
   "metadata": {
    "papermill": {
     "duration": 0.018677,
     "end_time": "2024-02-27T15:31:15.456481",
     "exception": false,
     "start_time": "2024-02-27T15:31:15.437804",
     "status": "completed"
    },
    "tags": []
   },
   "source": [
    "Print the classification report for evaluating the performance of a machine learning model on test data.\n",
    "print(classification_report(y_test, y_pred2))"
   ]
  },
  {
   "cell_type": "code",
   "execution_count": 27,
   "id": "159cb999",
   "metadata": {
    "execution": {
     "iopub.execute_input": "2024-02-27T15:31:15.497148Z",
     "iopub.status.busy": "2024-02-27T15:31:15.496790Z",
     "iopub.status.idle": "2024-02-27T15:31:15.510000Z",
     "shell.execute_reply": "2024-02-27T15:31:15.508925Z"
    },
    "papermill": {
     "duration": 0.03668,
     "end_time": "2024-02-27T15:31:15.512060",
     "exception": false,
     "start_time": "2024-02-27T15:31:15.475380",
     "status": "completed"
    },
    "tags": []
   },
   "outputs": [
    {
     "name": "stdout",
     "output_type": "stream",
     "text": [
      "              precision    recall  f1-score   support\n",
      "\n",
      "           0       0.74      0.71      0.73       390\n",
      "           1       0.74      0.77      0.75       410\n",
      "\n",
      "    accuracy                           0.74       800\n",
      "   macro avg       0.74      0.74      0.74       800\n",
      "weighted avg       0.74      0.74      0.74       800\n",
      "\n"
     ]
    }
   ],
   "source": [
    "print(classification_report(y_test,y_pred2))"
   ]
  },
  {
   "cell_type": "markdown",
   "id": "7f4e6f10",
   "metadata": {
    "papermill": {
     "duration": 0.021838,
     "end_time": "2024-02-27T15:31:15.554116",
     "exception": false,
     "start_time": "2024-02-27T15:31:15.532278",
     "status": "completed"
    },
    "tags": []
   },
   "source": [
    "Creating a Decision Tree classifier with entropy as the criterion, setting a random state for reproducibility, and limiting the maximum depth to 10. Then, fitting the model on the training data and making predictions on the test data."
   ]
  },
  {
   "cell_type": "code",
   "execution_count": 28,
   "id": "f9ea4742",
   "metadata": {
    "execution": {
     "iopub.execute_input": "2024-02-27T15:31:15.597546Z",
     "iopub.status.busy": "2024-02-27T15:31:15.596857Z",
     "iopub.status.idle": "2024-02-27T15:31:15.636073Z",
     "shell.execute_reply": "2024-02-27T15:31:15.635039Z"
    },
    "papermill": {
     "duration": 0.063798,
     "end_time": "2024-02-27T15:31:15.638599",
     "exception": false,
     "start_time": "2024-02-27T15:31:15.574801",
     "status": "completed"
    },
    "tags": []
   },
   "outputs": [],
   "source": [
    "dt=DecisionTreeClassifier(criterion='entropy',random_state=2,max_depth=10)\n",
    "dt.fit(X_train,y_train)\n",
    "y_pred3=dt.predict(X_test)"
   ]
  },
  {
   "cell_type": "markdown",
   "id": "aac2fd64",
   "metadata": {
    "papermill": {
     "duration": 0.019033,
     "end_time": "2024-02-27T15:31:15.676800",
     "exception": false,
     "start_time": "2024-02-27T15:31:15.657767",
     "status": "completed"
    },
    "tags": []
   },
   "source": [
    "Print the classification report comparing the true labels (y_test) and predicted labels (y_pred3)."
   ]
  },
  {
   "cell_type": "code",
   "execution_count": 29,
   "id": "bbd278c2",
   "metadata": {
    "execution": {
     "iopub.execute_input": "2024-02-27T15:31:15.718068Z",
     "iopub.status.busy": "2024-02-27T15:31:15.717697Z",
     "iopub.status.idle": "2024-02-27T15:31:15.731454Z",
     "shell.execute_reply": "2024-02-27T15:31:15.730156Z"
    },
    "papermill": {
     "duration": 0.036658,
     "end_time": "2024-02-27T15:31:15.733441",
     "exception": false,
     "start_time": "2024-02-27T15:31:15.696783",
     "status": "completed"
    },
    "tags": []
   },
   "outputs": [
    {
     "name": "stdout",
     "output_type": "stream",
     "text": [
      "              precision    recall  f1-score   support\n",
      "\n",
      "           0       0.92      0.81      0.86       390\n",
      "           1       0.84      0.93      0.88       410\n",
      "\n",
      "    accuracy                           0.87       800\n",
      "   macro avg       0.88      0.87      0.87       800\n",
      "weighted avg       0.88      0.87      0.87       800\n",
      "\n"
     ]
    }
   ],
   "source": [
    "print(classification_report(y_test,y_pred3))"
   ]
  },
  {
   "cell_type": "code",
   "execution_count": 30,
   "id": "48521142",
   "metadata": {
    "execution": {
     "iopub.execute_input": "2024-02-27T15:31:15.773510Z",
     "iopub.status.busy": "2024-02-27T15:31:15.772835Z",
     "iopub.status.idle": "2024-02-27T15:31:17.897599Z",
     "shell.execute_reply": "2024-02-27T15:31:17.896462Z"
    },
    "papermill": {
     "duration": 2.147529,
     "end_time": "2024-02-27T15:31:17.900043",
     "exception": false,
     "start_time": "2024-02-27T15:31:15.752514",
     "status": "completed"
    },
    "tags": []
   },
   "outputs": [],
   "source": [
    "rf=RandomForestClassifier(criterion= 'entropy', max_depth= None, min_samples_leaf= 1, min_samples_split= 4,n_estimators= 200)\n",
    "rf.fit(X_train,y_train)\n",
    "y_pred4=rf.predict(X_test)"
   ]
  },
  {
   "cell_type": "markdown",
   "id": "8502a912",
   "metadata": {
    "papermill": {
     "duration": 0.019278,
     "end_time": "2024-02-27T15:31:17.938467",
     "exception": false,
     "start_time": "2024-02-27T15:31:17.919189",
     "status": "completed"
    },
    "tags": []
   },
   "source": [
    "Print the classification report for evaluating the model's performance on the test set."
   ]
  },
  {
   "cell_type": "code",
   "execution_count": 31,
   "id": "90357fd9",
   "metadata": {
    "execution": {
     "iopub.execute_input": "2024-02-27T15:31:17.979916Z",
     "iopub.status.busy": "2024-02-27T15:31:17.979312Z",
     "iopub.status.idle": "2024-02-27T15:31:17.992701Z",
     "shell.execute_reply": "2024-02-27T15:31:17.991317Z"
    },
    "papermill": {
     "duration": 0.037151,
     "end_time": "2024-02-27T15:31:17.995226",
     "exception": false,
     "start_time": "2024-02-27T15:31:17.958075",
     "status": "completed"
    },
    "tags": []
   },
   "outputs": [
    {
     "name": "stdout",
     "output_type": "stream",
     "text": [
      "              precision    recall  f1-score   support\n",
      "\n",
      "           0       1.00      0.95      0.98       390\n",
      "           1       0.96      1.00      0.98       410\n",
      "\n",
      "    accuracy                           0.98       800\n",
      "   macro avg       0.98      0.98      0.98       800\n",
      "weighted avg       0.98      0.98      0.98       800\n",
      "\n"
     ]
    }
   ],
   "source": [
    "print(classification_report(y_test,y_pred4))"
   ]
  },
  {
   "cell_type": "code",
   "execution_count": 32,
   "id": "c3b6edb3",
   "metadata": {
    "execution": {
     "iopub.execute_input": "2024-02-27T15:31:18.037005Z",
     "iopub.status.busy": "2024-02-27T15:31:18.036472Z",
     "iopub.status.idle": "2024-02-27T15:31:18.262667Z",
     "shell.execute_reply": "2024-02-27T15:31:18.261782Z"
    },
    "papermill": {
     "duration": 0.250033,
     "end_time": "2024-02-27T15:31:18.265018",
     "exception": false,
     "start_time": "2024-02-27T15:31:18.014985",
     "status": "completed"
    },
    "tags": []
   },
   "outputs": [],
   "source": [
    "xgb=XGBClassifier()\n",
    "xgb.fit(X_train,y_train)\n",
    "y_pred7=xgb.predict(X_test)"
   ]
  },
  {
   "cell_type": "code",
   "execution_count": 33,
   "id": "b2141551",
   "metadata": {
    "execution": {
     "iopub.execute_input": "2024-02-27T15:31:18.305967Z",
     "iopub.status.busy": "2024-02-27T15:31:18.305295Z",
     "iopub.status.idle": "2024-02-27T15:31:18.317959Z",
     "shell.execute_reply": "2024-02-27T15:31:18.316903Z"
    },
    "papermill": {
     "duration": 0.035757,
     "end_time": "2024-02-27T15:31:18.320108",
     "exception": false,
     "start_time": "2024-02-27T15:31:18.284351",
     "status": "completed"
    },
    "tags": []
   },
   "outputs": [
    {
     "name": "stdout",
     "output_type": "stream",
     "text": [
      "              precision    recall  f1-score   support\n",
      "\n",
      "           0       1.00      0.92      0.96       390\n",
      "           1       0.93      1.00      0.96       410\n",
      "\n",
      "    accuracy                           0.96       800\n",
      "   macro avg       0.97      0.96      0.96       800\n",
      "weighted avg       0.97      0.96      0.96       800\n",
      "\n"
     ]
    }
   ],
   "source": [
    "print(classification_report(y_test,y_pred7))"
   ]
  },
  {
   "cell_type": "code",
   "execution_count": 34,
   "id": "746f6717",
   "metadata": {
    "execution": {
     "iopub.execute_input": "2024-02-27T15:31:18.361065Z",
     "iopub.status.busy": "2024-02-27T15:31:18.360403Z",
     "iopub.status.idle": "2024-02-27T15:31:18.623101Z",
     "shell.execute_reply": "2024-02-27T15:31:18.621896Z"
    },
    "papermill": {
     "duration": 0.285977,
     "end_time": "2024-02-27T15:31:18.625556",
     "exception": false,
     "start_time": "2024-02-27T15:31:18.339579",
     "status": "completed"
    },
    "tags": []
   },
   "outputs": [
    {
     "data": {
      "image/png": "[encoded data removed]",
      "text/plain": [
       "<Figure size 1000x600 with 1 Axes>"
      ]
     },
     "metadata": {},
     "output_type": "display_data"
    }
   ],
   "source": [
    "from sklearn.metrics import precision_recall_fscore_support\n",
    "import matplotlib.pyplot as plt\n",
    "import numpy as np\n",
    "\n",
    "# Define the models and their respective predictions\n",
    "models = ['KNN', 'SVM', 'Naive Bayes', 'Decision Tree', 'Random Forest', 'XGBoost']\n",
    "predictions = [y_pred1, y_pred2, y_pred2, y_pred3, y_pred4, y_pred7]\n",
    "\n",
    "# Calculate precision, recall, and f1-score for each model\n",
    "precision = []\n",
    "recall = []\n",
    "f1_score = []\n",
    "\n",
    "for y_pred in predictions:\n",
    "    p, r, f, _ = precision_recall_fscore_support(y_test, y_pred, average='weighted')\n",
    "    precision.append(p)\n",
    "    recall.append(r)\n",
    "    f1_score.append(f)\n",
    "\n",
    "# Plotting the comparison\n",
    "fig, ax = plt.subplots(figsize=(10, 6))\n",
    "\n",
    "bar_width = 0.2\n",
    "index = np.arange(len(models))\n",
    "\n",
    "rect1 = ax.bar(index, precision, bar_width, label='Precision')\n",
    "rect2 = ax.bar(index + bar_width, recall, bar_width, label='Recall')\n",
    "rect3 = ax.bar(index + 2 * bar_width, f1_score, bar_width, label='F1 Score')\n",
    "\n",
    "ax.set_xlabel('Models')\n",
    "ax.set_ylabel('Scores')\n",
    "ax.set_title('Comparison of Model Performance')\n",
    "ax.set_xticks(index + bar_width)\n",
    "ax.set_xticklabels(models)\n",
    "ax.legend()\n",
    "\n",
    "plt.show()"
   ]
  },
  {
   "cell_type": "markdown",
   "id": "adaceb5e",
   "metadata": {
    "papermill": {
     "duration": 0.020718,
     "end_time": "2024-02-27T15:31:18.666232",
     "exception": false,
     "start_time": "2024-02-27T15:31:18.645514",
     "status": "completed"
    },
    "tags": []
   },
   "source": [
    "# RNN Approch"
   ]
  },
  {
   "cell_type": "markdown",
   "id": "a946df20",
   "metadata": {
    "papermill": {
     "duration": 0.019845,
     "end_time": "2024-02-27T15:31:18.706263",
     "exception": false,
     "start_time": "2024-02-27T15:31:18.686418",
     "status": "completed"
    },
    "tags": []
   },
   "source": [
    "LSTM:"
   ]
  },
  {
   "cell_type": "code",
   "execution_count": 35,
   "id": "88e14a96",
   "metadata": {
    "execution": {
     "iopub.execute_input": "2024-02-27T15:31:18.748830Z",
     "iopub.status.busy": "2024-02-27T15:31:18.748448Z",
     "iopub.status.idle": "2024-02-27T15:32:16.056668Z",
     "shell.execute_reply": "2024-02-27T15:32:16.055267Z"
    },
    "papermill": {
     "duration": 57.332382,
     "end_time": "2024-02-27T15:32:16.058813",
     "exception": false,
     "start_time": "2024-02-27T15:31:18.726431",
     "status": "completed"
    },
    "tags": []
   },
   "outputs": [
    {
     "name": "stderr",
     "output_type": "stream",
     "text": [
      "2024-02-27 15:31:20.964966: E external/local_xla/xla/stream_executor/cuda/cuda_dnn.cc:9261] Unable to register cuDNN factory: Attempting to register factory for plugin cuDNN when one has already been registered\n",
      "2024-02-27 15:31:20.965100: E external/local_xla/xla/stream_executor/cuda/cuda_fft.cc:607] Unable to register cuFFT factory: Attempting to register factory for plugin cuFFT when one has already been registered\n",
      "2024-02-27 15:31:21.128092: E external/local_xla/xla/stream_executor/cuda/cuda_blas.cc:1515] Unable to register cuBLAS factory: Attempting to register factory for plugin cuBLAS when one has already been registered\n"
     ]
    },
    {
     "name": "stdout",
     "output_type": "stream",
     "text": [
      "Epoch 1/50\n",
      "225/225 [==============================] - 3s 5ms/step - loss: 0.6538 - accuracy: 0.6299 - val_loss: 0.6161 - val_accuracy: 0.6700\n",
      "Epoch 2/50\n",
      "225/225 [==============================] - 1s 3ms/step - loss: 0.5675 - accuracy: 0.7067 - val_loss: 0.5483 - val_accuracy: 0.7462\n",
      "Epoch 3/50\n",
      "225/225 [==============================] - 1s 2ms/step - loss: 0.5069 - accuracy: 0.7640 - val_loss: 0.4933 - val_accuracy: 0.7837\n",
      "Epoch 4/50\n",
      "225/225 [==============================] - 1s 2ms/step - loss: 0.4780 - accuracy: 0.7868 - val_loss: 0.4774 - val_accuracy: 0.7975\n",
      "Epoch 5/50\n",
      "225/225 [==============================] - 1s 2ms/step - loss: 0.4696 - accuracy: 0.7926 - val_loss: 0.4740 - val_accuracy: 0.8012\n",
      "Epoch 6/50\n",
      "225/225 [==============================] - 1s 2ms/step - loss: 0.4664 - accuracy: 0.7946 - val_loss: 0.4787 - val_accuracy: 0.8000\n",
      "Epoch 7/50\n",
      "225/225 [==============================] - 1s 2ms/step - loss: 0.4635 - accuracy: 0.7939 - val_loss: 0.4722 - val_accuracy: 0.8037\n",
      "Epoch 8/50\n",
      "225/225 [==============================] - 1s 3ms/step - loss: 0.4617 - accuracy: 0.7943 - val_loss: 0.4710 - val_accuracy: 0.8050\n",
      "Epoch 9/50\n",
      "225/225 [==============================] - 1s 2ms/step - loss: 0.4616 - accuracy: 0.7929 - val_loss: 0.4694 - val_accuracy: 0.8050\n",
      "Epoch 10/50\n",
      "225/225 [==============================] - 1s 2ms/step - loss: 0.4579 - accuracy: 0.7985 - val_loss: 0.4670 - val_accuracy: 0.8075\n",
      "Epoch 11/50\n",
      "225/225 [==============================] - 1s 3ms/step - loss: 0.4575 - accuracy: 0.7967 - val_loss: 0.4722 - val_accuracy: 0.8012\n",
      "Epoch 12/50\n",
      "225/225 [==============================] - 1s 2ms/step - loss: 0.4555 - accuracy: 0.7981 - val_loss: 0.4657 - val_accuracy: 0.8062\n",
      "Epoch 13/50\n",
      "225/225 [==============================] - 1s 2ms/step - loss: 0.4534 - accuracy: 0.7967 - val_loss: 0.4640 - val_accuracy: 0.8012\n",
      "Epoch 14/50\n",
      "225/225 [==============================] - 1s 2ms/step - loss: 0.4517 - accuracy: 0.7990 - val_loss: 0.4702 - val_accuracy: 0.7862\n",
      "Epoch 15/50\n",
      "225/225 [==============================] - 1s 2ms/step - loss: 0.4497 - accuracy: 0.7975 - val_loss: 0.4612 - val_accuracy: 0.8062\n",
      "Epoch 16/50\n",
      "225/225 [==============================] - 1s 2ms/step - loss: 0.4483 - accuracy: 0.7993 - val_loss: 0.4615 - val_accuracy: 0.8012\n",
      "Epoch 17/50\n",
      "225/225 [==============================] - 1s 2ms/step - loss: 0.4464 - accuracy: 0.7985 - val_loss: 0.4578 - val_accuracy: 0.8050\n",
      "Epoch 18/50\n",
      "225/225 [==============================] - 1s 2ms/step - loss: 0.4452 - accuracy: 0.8000 - val_loss: 0.4627 - val_accuracy: 0.8000\n",
      "Epoch 19/50\n",
      "225/225 [==============================] - 1s 2ms/step - loss: 0.4438 - accuracy: 0.7996 - val_loss: 0.4607 - val_accuracy: 0.7975\n",
      "Epoch 20/50\n",
      "225/225 [==============================] - 1s 2ms/step - loss: 0.4424 - accuracy: 0.8021 - val_loss: 0.4550 - val_accuracy: 0.7987\n",
      "Epoch 21/50\n",
      "225/225 [==============================] - 1s 2ms/step - loss: 0.4412 - accuracy: 0.8047 - val_loss: 0.4544 - val_accuracy: 0.8050\n",
      "Epoch 22/50\n",
      "225/225 [==============================] - 1s 2ms/step - loss: 0.4397 - accuracy: 0.8019 - val_loss: 0.4518 - val_accuracy: 0.8037\n",
      "Epoch 23/50\n",
      "225/225 [==============================] - 1s 2ms/step - loss: 0.4385 - accuracy: 0.8039 - val_loss: 0.4566 - val_accuracy: 0.7937\n",
      "Epoch 24/50\n",
      "225/225 [==============================] - 1s 2ms/step - loss: 0.4370 - accuracy: 0.8042 - val_loss: 0.4482 - val_accuracy: 0.8075\n",
      "Epoch 25/50\n",
      "225/225 [==============================] - 1s 2ms/step - loss: 0.4354 - accuracy: 0.8036 - val_loss: 0.4462 - val_accuracy: 0.8025\n",
      "Epoch 26/50\n",
      "225/225 [==============================] - 1s 2ms/step - loss: 0.4345 - accuracy: 0.8021 - val_loss: 0.4493 - val_accuracy: 0.7950\n",
      "Epoch 27/50\n",
      "225/225 [==============================] - 1s 2ms/step - loss: 0.4331 - accuracy: 0.8022 - val_loss: 0.4431 - val_accuracy: 0.8112\n",
      "Epoch 28/50\n",
      "225/225 [==============================] - 1s 2ms/step - loss: 0.4314 - accuracy: 0.8042 - val_loss: 0.4442 - val_accuracy: 0.8100\n",
      "Epoch 29/50\n",
      "225/225 [==============================] - 1s 2ms/step - loss: 0.4302 - accuracy: 0.8046 - val_loss: 0.4457 - val_accuracy: 0.8062\n",
      "Epoch 30/50\n",
      "225/225 [==============================] - 1s 2ms/step - loss: 0.4286 - accuracy: 0.8054 - val_loss: 0.4400 - val_accuracy: 0.8112\n",
      "Epoch 31/50\n",
      "225/225 [==============================] - 1s 2ms/step - loss: 0.4280 - accuracy: 0.8068 - val_loss: 0.4400 - val_accuracy: 0.8075\n",
      "Epoch 32/50\n",
      "225/225 [==============================] - 1s 2ms/step - loss: 0.4257 - accuracy: 0.8074 - val_loss: 0.4390 - val_accuracy: 0.8100\n",
      "Epoch 33/50\n",
      "225/225 [==============================] - 1s 2ms/step - loss: 0.4251 - accuracy: 0.8072 - val_loss: 0.4363 - val_accuracy: 0.8112\n",
      "Epoch 34/50\n",
      "225/225 [==============================] - 1s 2ms/step - loss: 0.4242 - accuracy: 0.8087 - val_loss: 0.4403 - val_accuracy: 0.8012\n",
      "Epoch 35/50\n",
      "225/225 [==============================] - 1s 2ms/step - loss: 0.4227 - accuracy: 0.8076 - val_loss: 0.4360 - val_accuracy: 0.8050\n",
      "Epoch 36/50\n",
      "225/225 [==============================] - 1s 2ms/step - loss: 0.4211 - accuracy: 0.8079 - val_loss: 0.4376 - val_accuracy: 0.8062\n",
      "Epoch 37/50\n",
      "225/225 [==============================] - 1s 2ms/step - loss: 0.4194 - accuracy: 0.8108 - val_loss: 0.4313 - val_accuracy: 0.8163\n",
      "Epoch 38/50\n",
      "225/225 [==============================] - 1s 2ms/step - loss: 0.4195 - accuracy: 0.8106 - val_loss: 0.4314 - val_accuracy: 0.8138\n",
      "Epoch 39/50\n",
      "225/225 [==============================] - 1s 2ms/step - loss: 0.4177 - accuracy: 0.8119 - val_loss: 0.4313 - val_accuracy: 0.8100\n",
      "Epoch 40/50\n",
      "225/225 [==============================] - 1s 2ms/step - loss: 0.4162 - accuracy: 0.8138 - val_loss: 0.4311 - val_accuracy: 0.8188\n",
      "Epoch 41/50\n",
      "225/225 [==============================] - 1s 2ms/step - loss: 0.4161 - accuracy: 0.8122 - val_loss: 0.4303 - val_accuracy: 0.8138\n",
      "Epoch 42/50\n",
      "225/225 [==============================] - 1s 2ms/step - loss: 0.4141 - accuracy: 0.8131 - val_loss: 0.4308 - val_accuracy: 0.8075\n",
      "Epoch 43/50\n",
      "225/225 [==============================] - 1s 2ms/step - loss: 0.4120 - accuracy: 0.8149 - val_loss: 0.4311 - val_accuracy: 0.8100\n",
      "Epoch 44/50\n",
      "225/225 [==============================] - 1s 2ms/step - loss: 0.4120 - accuracy: 0.8138 - val_loss: 0.4260 - val_accuracy: 0.8213\n",
      "Epoch 45/50\n",
      "225/225 [==============================] - 1s 2ms/step - loss: 0.4115 - accuracy: 0.8176 - val_loss: 0.4251 - val_accuracy: 0.8150\n",
      "Epoch 46/50\n",
      "225/225 [==============================] - 1s 2ms/step - loss: 0.4090 - accuracy: 0.8156 - val_loss: 0.4234 - val_accuracy: 0.8188\n",
      "Epoch 47/50\n",
      "225/225 [==============================] - 1s 2ms/step - loss: 0.4081 - accuracy: 0.8138 - val_loss: 0.4226 - val_accuracy: 0.8138\n",
      "Epoch 48/50\n",
      "225/225 [==============================] - 1s 2ms/step - loss: 0.4068 - accuracy: 0.8156 - val_loss: 0.4221 - val_accuracy: 0.8213\n",
      "Epoch 49/50\n",
      "225/225 [==============================] - 1s 2ms/step - loss: 0.4074 - accuracy: 0.8172 - val_loss: 0.4207 - val_accuracy: 0.8163\n",
      "Epoch 50/50\n",
      "225/225 [==============================] - 1s 2ms/step - loss: 0.4055 - accuracy: 0.8143 - val_loss: 0.4239 - val_accuracy: 0.8138\n",
      "25/25 [==============================] - 0s 2ms/step - loss: 0.4239 - accuracy: 0.8138\n",
      "Model Accuracy: 81.38%\n"
     ]
    }
   ],
   "source": [
    "import tensorflow as tf\n",
    "from tensorflow.keras.models import Sequential\n",
    "from tensorflow.keras.layers import LSTM, Dense\n",
    "\n",
    "# Reshape data for LSTM (assuming you have a time series dataset)\n",
    "X_train_lstm = X_train.reshape((X_train.shape[0], 1, X_train.shape[1]))\n",
    "X_test_lstm = X_test.reshape((X_test.shape[0], 1, X_test.shape[1]))\n",
    "\n",
    "# Build LSTM model\n",
    "model = Sequential()\n",
    "model.add(LSTM(50, input_shape=(X_train_lstm.shape[1], X_train_lstm.shape[2])))\n",
    "model.add(Dense(1, activation='sigmoid'))  # Assuming binary classification\n",
    "\n",
    "# Compile the model with a specified learning rate\n",
    "optimizer = tf.keras.optimizers.Adam(learning_rate=0.001)  # Adjust the learning rate as needed\n",
    "model.compile(optimizer=optimizer, loss='binary_crossentropy', metrics=['accuracy'])\n",
    "\n",
    "# Train the model\n",
    "model.fit(X_train_lstm, y_train, epochs=50, batch_size=32, validation_data=(X_test_lstm, y_test))\n",
    "\n",
    "# Evaluate the model\n",
    "_, accuracy = model.evaluate(X_test_lstm, y_test)\n",
    "print(f'Model Accuracy: {accuracy * 100:.2f}%')"
   ]
  }
 ],
 "metadata": {
  "kaggle": {
   "accelerator": "none",
   "dataSources": [
    {
     "datasetId": 3574954,
     "sourceId": 7628424,
     "sourceType": "datasetVersion"
    }
   ],
   "dockerImageVersionId": 30646,
   "isGpuEnabled": false,
   "isInternetEnabled": false,
   "language": "python",
   "sourceType": "notebook"
  },
  "kernelspec": {
   "display_name": "Python 3",
   "language": "python",
   "name": "python3"
  },
  "language_info": {
   "codemirror_mode": {
    "name": "ipython",
    "version": 3
   },
   "file_extension": ".py",
   "mimetype": "text/x-python",
   "name": "python",
   "nbconvert_exporter": "python",
   "pygments_lexer": "ipython3",
   "version": "3.10.13"
  },
  "papermill": {
   "default_parameters": {},
   "duration": 75.883513,
   "end_time": "2024-02-27T15:32:17.842603",
   "environment_variables": {},
   "exception": null,
   "input_path": "__notebook__.ipynb",
   "output_path": "__notebook__.ipynb",
   "parameters": {},
   "start_time": "2024-02-27T15:31:01.959090",
   "version": "2.5.0"
  }
 },
 "nbformat": 4,
 "nbformat_minor": 5
}
